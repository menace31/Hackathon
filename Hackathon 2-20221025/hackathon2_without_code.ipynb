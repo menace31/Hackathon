{
 "cells": [
  {
   "cell_type": "markdown",
   "metadata": {},
   "source": [
    "# Hackathon 2\n",
    "\n",
    "In the first exercise, you will develop a model for estimating the cooling/heating load indexes of a building from its characteristics. These indexes serve as reference to adapt the power of air conditioning systems. In the second exercise, you will forecast the hourly electric power consumption in Spain. Electricity being not storable, predicting the electric consumption is a crucial matter for energy producers. You will develop an autoregressive model for this purpose. \n",
    "\n",
    "## Report content\n",
    "\n",
    "•\tYou have to fill in this  jupyter notebook downloadable on the moodle website of the course\n",
    "\n",
    "•\tGrades are granted to the members whose names are in the Jupyter notebook. If your name doesn’t appear on the top of the notebook, you’ll get a 0, even though you are in a group on Moodle.\n",
    "\n",
    "•\tThe jupyter notebook must be compiled with printed results and next submitted via moodle. The absence of compiled results (or non-printed values) leads to a lower grade.\n",
    "\n",
    "## Report submission\n",
    "\n",
    "•\tThe deadline for submission is reported on the moodle website. Submission after the deadline will not be accepted.\n",
    "\n",
    "•\tTo submit your report, go to the section “APP” on Moodle and the subsection “Soumission du rapport”. You can upload your work there. Once you are sure that it is your final version, click the button “Envoyer le devoir”. It is important that you don’t forget to click on this button ! \n",
    "\n",
    "•\tReports that have not been uploaded through Moodle will not be corrected.\n",
    "\n",
    "## Names and Noma of participants:\n",
    "\n",
    "Part. 1: Louise Monteyne 32202000\n",
    "\n",
    "Part. 2: Gabrielle Deplae 19082000\n",
    "\n",
    "Part. 3: Albane Denis 23872000\n",
    "\n",
    "Part. 4: Liza Denis 30902000\n",
    "\n",
    "Part. 5: Maxime Devillet 08661900\n",
    "\n",
    "Part. 6: Anass Gallass 02652201\n",
    "\n",
    "\n",
    "## Regression\n",
    "\n",
    "When designing a building, the computation of the heating load (HL) and the cooling load (CL) is required to determine the specifications of the heating and cooling equipment needed to maintain comfortable indoor air conditions. Architects and building designers need information about the characteristics of the building and of the conditioned space. For this reason, we  investigate the effect of eight input variables: (RC), surface area, wall area, roof area, overall height, orientation, glazing area, and glazing area distribution, to determine the output variables HL and CL of residential buildings.\n",
    "The dataset contains eight attributes (or features) and two responses (or outcomes). The aim is to use the eight features to predict each of the two responses.\n",
    "\n",
    "Features: RelativeCompactness, SurfaceArea ,WallArea, RoofArea, OverallHeight, Orientation, GlazingArea, GlazingAreaDistribution.\n",
    "\n",
    "Prediction: HeatingLoad, CoolingLoad\n",
    "\n"
   ]
  },
  {
   "cell_type": "markdown",
   "metadata": {},
   "source": [
    "---\n",
    "1) Report useful statistics for each variables (mean, std, heatmap of correlations,...)"
   ]
  },
  {
   "cell_type": "code",
   "execution_count": 4,
   "metadata": {},
   "outputs": [
    {
     "name": "stdout",
     "output_type": "stream",
     "text": [
      "Relative_Compactness: Mean = 0.7641666666666677    Standard Deviation = 0.10577747587475206\n",
      "Surface_Area: Mean = 671.7083333333334    Standard Deviation = 88.08611605586826\n",
      "Wall_Area: Mean = 318.5    Standard Deviation = 43.6264814379949\n",
      "Roof_Area: Mean = 176.60416666666666    Standard Deviation = 45.165950222920344\n",
      "Overall_Height: Mean = 5.25    Standard Deviation = 1.7511404367453496\n",
      "Orientation: Mean = 3.5    Standard Deviation = 1.1187625870603635\n",
      "Glazing_Area: Mean = 0.23437500000000186    Standard Deviation = 0.13322056291470877\n",
      "Glazing_Area_Distribution: Mean = 2.8125    Standard Deviation = 1.5509596642247505\n",
      "Heating_Load: Mean = 22.307200520833305    Standard Deviation = 10.090195732006162\n",
      "Cooling_Load: Mean = 24.58776041666671    Standard Deviation = 9.513305562326163\n"
     ]
    },
    {
     "data": {
      "image/png": "[encoded data removed]",
      "text/plain": [
       "<Figure size 432x288 with 2 Axes>"
      ]
     },
     "metadata": {
      "needs_background": "light"
     },
     "output_type": "display_data"
    }
   ],
   "source": [
    "#code here\n",
    "import seaborn as sb\n",
    "import statsmodels as sm\n",
    "import pandas as pd\n",
    "import numpy as np\n",
    "\n",
    "data_hc = pd.read_csv(\"Data_heating_cooling.csv\", sep = ',')\n",
    "data_el = pd.read_csv(\"Data_energy_load.csv\", sep = ',')\n",
    "\n",
    "Relative_Compactness = data_hc[\"Relative_Compactness\"]\n",
    "Surface_Area = data_hc[\"Surface_Area\"]\n",
    "Wall_Area = data_hc[\"Wall_Area\"]\n",
    "Roof_Area = data_hc[\"Roof_Area\"]\n",
    "Overall_Height = data_hc[\"Overall_Height\"]\n",
    "Orientation = data_hc[\"Orientation\"]\n",
    "Glazing_Area = data_hc[\"Glazing_Area\"]\n",
    "Glazing_Area_Distribution = data_hc[\"Glazing_Area_Distribution\"]\n",
    "Heating_Load = data_hc[\"Heating_Load\"]\n",
    "Cooling_Load = data_hc[\"Cooling_Load\"]\n",
    "\n",
    "def mean (var):\n",
    "    return var.mean()\n",
    "\n",
    "def std (var):\n",
    "    return var.std()\n",
    "\n",
    "corr = data_hc.corr()\n",
    "sb.heatmap(corr)\n",
    "\n",
    "lst = [Relative_Compactness,Surface_Area,Wall_Area,Roof_Area,Overall_Height,Orientation,Glazing_Area,Glazing_Area_Distribution,Heating_Load,Cooling_Load]\n",
    "for var in lst:\n",
    "    print(str(var.name) + \": Mean = \" + str(mean(var)) + \"    Standard Deviation = \" + str(std(var)))\n",
    "\n"
   ]
  },
  {
   "cell_type": "markdown",
   "metadata": {},
   "source": [
    "Comments"
   ]
  },
  {
   "cell_type": "markdown",
   "metadata": {},
   "source": [
    "---\n",
    "2)\tAdd a constant term (intercept) and perform a linear regression of the variable CoolingLoad on all other explanatory variables. Use  the library statsmodels.\n",
    "\n",
    "i. Report the F statistics and R2: interpret them. \n",
    "\n",
    "ii. Analyze the t-statistics and p-values of each coefficient of regression.\n",
    "\n",
    "Are all coefficients significant at 95%? Use the library statsmodels.api. The function OLS accepts pandas dataframe (use .drop() to remove columns).\n"
   ]
  },
  {
   "cell_type": "code",
   "execution_count": 51,
   "metadata": {},
   "outputs": [
    {
     "name": "stdout",
     "output_type": "stream",
     "text": [
      "                              F statistics        R2\n",
      "0                Orientation      0.156075  0.000612\n",
      "1  Glazing_Area_Distribution      2.789418  0.017974\n",
      "\n",
      "\n",
      "Linear regression of the variable CoolingLoad on Orientation:\n",
      "\n",
      "                      const       x_3       x_4       x_5\n",
      "p-values      1.968308e-165  0.764092  0.898401  0.719719\n",
      "t-statistics   3.577802e+01 -0.300219 -0.127724  0.358967\n",
      "\n",
      "\n",
      "Linear regression of the variable CoolingLoad on Glazing_Area_Distribution:\n",
      "\n",
      "                     const       x_1       x_2       x_3       x_4       x_5\n",
      "p-values      6.244860e-42  0.000546  0.000829  0.001742  0.000796  0.001546\n",
      "t-statistics  1.443483e+01  3.472039  3.356179  3.142126  3.367765  3.177368\n"
     ]
    },
    {
     "name": "stderr",
     "output_type": "stream",
     "text": [
      "c:\\Users\\denis\\anaconda3\\lib\\site-packages\\statsmodels\\tsa\\tsatools.py:142: FutureWarning: In a future version of pandas all arguments of concat except for the argument 'objs' will be keyword-only\n",
      "  x = pd.concat(x[::order], 1)\n"
     ]
    }
   ],
   "source": [
    "#code here\n",
    "import statsmodels.api as sm\n",
    "\n",
    "#Explanatory variables: Orientation et Glazing_Area_Distribution\n",
    "\n",
    "X_O= pd.get_dummies(Orientation, prefix = 'x', drop_first=True)\n",
    "X_O= sm.add_constant(X_O)\n",
    "model_O = sm.OLS(Cooling_Load,X_O)\n",
    "\n",
    "X_G = pd.get_dummies(Glazing_Area_Distribution,prefix = 'x', drop_first= True)\n",
    "X_G = sm.add_constant(X_G)\n",
    "model_G = sm.OLS(Cooling_Load, X_G)\n",
    "\n",
    "results_O = model_O.fit()\n",
    "results_G = model_G.fit()\n",
    "\n",
    "data = {\n",
    "    \" \": [\"Orientation\", \"Glazing_Area_Distribution\"],\n",
    "    \"F statistics\": [results_O.fvalue, results_G.fvalue],\n",
    "    \"R2\": [results_O.rsquared, results_G.rsquared]\n",
    "}\n",
    "print(pd.DataFrame(data))\n",
    "print(\"\\n\")\n",
    "print(\"Linear regression of the variable CoolingLoad on Orientation:\\n\")\n",
    "print(pd.DataFrame([results_O.pvalues,results_O.tvalues],index = [\"p-values\",\"t-statistics\"]))\n",
    "print(\"\\n\")\n",
    "print(\"Linear regression of the variable CoolingLoad on Glazing_Area_Distribution:\\n\")\n",
    "print(pd.DataFrame([results_G.pvalues,results_G.tvalues],index = [\"p-values\",\"t-statistics\"]))\n"
   ]
  },
  {
   "cell_type": "markdown",
   "metadata": {},
   "source": [
    "Comments"
   ]
  },
  {
   "cell_type": "markdown",
   "metadata": {},
   "source": [
    "---\n",
    "3)\tRemove non-significant coefficients except the intercept (e.g. with  𝛼  5%) and run again the regression. What do you notice when you compare the R2, log-likelihood, AIC and BIC (the AIC and BIC are not explained in the course, search on internet for explanations)\n"
   ]
  },
  {
   "cell_type": "code",
   "execution_count": 6,
   "metadata": {},
   "outputs": [],
   "source": [
    "#code here\n",
    "# Pour savoir si un coefficient est significatif ou non il faut regarder le 'p-value'\n",
    "# si p-value>0.05 le coefficient n'est pas significatif et si p-value<0.05 le coefficient est significatif\n"
   ]
  },
  {
   "cell_type": "code",
   "execution_count": 7,
   "metadata": {},
   "outputs": [
    {
     "ename": "NameError",
     "evalue": "name 'Comments' is not defined",
     "output_type": "error",
     "traceback": [
      "\u001b[1;31m---------------------------------------------------------------------------\u001b[0m",
      "\u001b[1;31mNameError\u001b[0m                                 Traceback (most recent call last)",
      "\u001b[1;32m~\\AppData\\Local\\Temp/ipykernel_29972/3420064252.py\u001b[0m in \u001b[0;36m<module>\u001b[1;34m\u001b[0m\n\u001b[1;32m----> 1\u001b[1;33m \u001b[0mComments\u001b[0m\u001b[1;33m\u001b[0m\u001b[1;33m\u001b[0m\u001b[0m\n\u001b[0m",
      "\u001b[1;31mNameError\u001b[0m: name 'Comments' is not defined"
     ]
    }
   ],
   "source": [
    "Comments"
   ]
  },
  {
   "cell_type": "markdown",
   "metadata": {},
   "source": [
    "## Auto-regressive model\n",
    "\n",
    "In a paper released early 2019, forecasting in energy markets is identified as one of the highest leverage contribution areas of Machine/Deep Learning toward transitioning to a renewable based electrical infrastructure (see https://arxiv.org/abs/1906.05433).  The file “Data_energy_load.csv” contains 4 years of electrical consumption  for Spain in MW/h.  This was retrieved from ENTSOE a public portal for Transmission Service Operator (TSO) data.\n",
    "\n",
    "File format:\n",
    "\n",
    "Date: dd-mm-yy, Hour : from 0 to 23. Weekday: from 1 (Monday)  to 7 (Sunday). Load: consumption in MW/h. Lm1: consumption 1h ago, Lm2: consumption 2h ago,… Lm14: consumption 14h ago\n",
    "\n",
    "1)\tLoad the dataset and convert dates in datetime format (you can use the package datetime). Plot the time series of consumption, what do you observe?"
   ]
  },
  {
   "cell_type": "code",
   "execution_count": null,
   "metadata": {},
   "outputs": [],
   "source": [
    "#code here"
   ]
  },
  {
   "cell_type": "code",
   "execution_count": null,
   "metadata": {},
   "outputs": [],
   "source": [
    "Comments"
   ]
  },
  {
   "cell_type": "markdown",
   "metadata": {},
   "source": [
    "---\n",
    "2) We will regress the electric consumption (‘Load’) on the following covariates ‘Weekday’, ‘Hour’, ‘Lm1’, ‘Lm2’,…,’Lm14’. Plot the following graphs:\n",
    "\n",
    "•\tAverage electric consumption per day (y axis) versus weekday (x axis)\n",
    "\n",
    "•\tAverage electric consumption per hour(y axis) versus hour (x axis)\n",
    "\n",
    "Based on these graphs, do you think that it is a good idea to regress linearly the consumption on variables ‘Hour’ and ‘Weekday’? \n"
   ]
  },
  {
   "cell_type": "code",
   "execution_count": null,
   "metadata": {},
   "outputs": [],
   "source": [
    "#code here"
   ]
  },
  {
   "cell_type": "markdown",
   "metadata": {},
   "source": [
    "Comments"
   ]
  },
  {
   "cell_type": "markdown",
   "metadata": {},
   "source": [
    "---\n",
    "3) We will slightly transform the dataset. We first add a constant column for the regression (column of ones). You also convert the variable ‘Hour’ into 23 (and not 24!) binary variables H1,…H23. You next convert the variable ‘Weekday’ into 6 (and not 7) variables W2,…,W7. Use the command get_dummies(.) from pandas. Why do we remove H0 and W1? Why do we do this conversion?\n",
    "\n",
    "---"
   ]
  },
  {
   "cell_type": "code",
   "execution_count": null,
   "metadata": {},
   "outputs": [],
   "source": [
    "#code here"
   ]
  },
  {
   "cell_type": "markdown",
   "metadata": {},
   "source": [
    "Comments"
   ]
  },
  {
   "cell_type": "markdown",
   "metadata": {},
   "source": [
    "---\n",
    "4) Split the dataset in\n",
    "\n",
    "•\ta training set with observations from 02-01-15 up to 01-12-2018 (included)\n",
    "\n",
    "•\ta test (or validation) set with observations from 02-12-2018 up to 31-12-2018.\n"
   ]
  },
  {
   "cell_type": "code",
   "execution_count": null,
   "metadata": {},
   "outputs": [],
   "source": [
    "#code here"
   ]
  },
  {
   "cell_type": "markdown",
   "metadata": {},
   "source": [
    "---\n",
    "If we denote by L(t) the consumption at time t, the model that we want to develop is \n",
    "$$L(t) = cst + \\sum_{k=1}^{14} a_k L(t-k) +\\sum_{k=2}^{7} b_k W_k + \\sum_{k=1}^{23} c_k H_k    $$\n",
    "\n",
    "o\tEstimate this model with statsmodels on the training set. \n",
    "\n",
    "o\tHow would you judge the quality of the predictive model?\n",
    "\n",
    "o\tCompute the Mean Absolute Error (MAE) between predicted and real consumptions.\n",
    "\n"
   ]
  },
  {
   "cell_type": "code",
   "execution_count": null,
   "metadata": {},
   "outputs": [],
   "source": [
    "#code here"
   ]
  },
  {
   "cell_type": "markdown",
   "metadata": {},
   "source": [
    "Comments"
   ]
  },
  {
   "cell_type": "markdown",
   "metadata": {},
   "source": [
    "5) Use this model on the test set to forecast the electric consumption.\n",
    "\n",
    "o\tCompare on a graph, the forecast to  real consumptions on the given period. Plot also the errors of prediction.\n",
    "\n",
    "o\tCompute the MAE on the test set and the R2. Is the forecast reliable?"
   ]
  },
  {
   "cell_type": "code",
   "execution_count": null,
   "metadata": {},
   "outputs": [],
   "source": [
    "#code here"
   ]
  },
  {
   "cell_type": "markdown",
   "metadata": {},
   "source": [
    "Comments"
   ]
  },
  {
   "cell_type": "markdown",
   "metadata": {},
   "source": [
    "6) We want to check that the average consumption at 11h is significantly different (at 95%) from the average consumption at 13h. Perform a statistical test (explain which stat you use) and report the stat value, the pivot value(s) and the p-value."
   ]
  },
  {
   "cell_type": "code",
   "execution_count": null,
   "metadata": {},
   "outputs": [],
   "source": [
    "#code here"
   ]
  },
  {
   "cell_type": "markdown",
   "metadata": {},
   "source": [
    "Comments"
   ]
  },
  {
   "cell_type": "markdown",
   "metadata": {},
   "source": [
    "7) The test of question 5 requires that variances are equal. Test if this assumption holds (95% confidence level). Report  the stat value, the pivot value (s)."
   ]
  },
  {
   "cell_type": "code",
   "execution_count": null,
   "metadata": {},
   "outputs": [],
   "source": [
    "#code here"
   ]
  },
  {
   "cell_type": "markdown",
   "metadata": {},
   "source": [
    "Comments"
   ]
  }
 ],
 "metadata": {
  "kernelspec": {
   "display_name": "Python 3.9.7 ('base')",
   "language": "python",
   "name": "python3"
  },
  "language_info": {
   "codemirror_mode": {
    "name": "ipython",
    "version": 3
   },
   "file_extension": ".py",
   "mimetype": "text/x-python",
   "name": "python",
   "nbconvert_exporter": "python",
   "pygments_lexer": "ipython3",
   "version": "3.9.7"
  },
  "vscode": {
   "interpreter": {
    "hash": "1f04826dcc96a008917c6ca87a3c8a3a31b12c4446b40a25ad8fed7744102fd3"
   }
  }
 },
 "nbformat": 4,
 "nbformat_minor": 4
}
