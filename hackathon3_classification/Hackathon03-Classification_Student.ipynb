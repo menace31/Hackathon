{
 "cells": [
  {
   "cell_type": "markdown",
<<<<<<< HEAD
   "id": "0988a479",
=======
   "id": "7a01efbb",
>>>>>>> 8a16e3e63eadba7695ab2ecb6bf21c4e755a3817
   "metadata": {},
   "source": [
    "<font size=6  color=#003366> <b>[LEPL1109] - STATISTICS AND DATA SCIENCES</b> <br><br> \n",
    "<b>Hackathon 03 - Classification: AirQuality</b> </font> <br><br><br>\n",
    "\n",
    "<font size=5  color=#003366>\n",
    "Prof. D. Hainaut<br>\n",
    "Prof. L. Jacques<br>\n",
    "\n",
    "<br><br>\n",
    "Anne-Sophie Collin   (anne-sophie.collin@uclouvain.be)<br>\n",
    "Guillaume Van Dessel (guillaume.vandessel@uclouvain.be)<br>\n",
    "Jérome Eertmans (jerome.eertmans@uclouvain.be)<br>\n",
    "Maxime Zanella (maxime.zanella@uclouvain.be)<br>\n",
    "Florine Thiry (florine.thiry@uclouvain.be)<br>\n",
    "Baptiste Standaert (baptiste.standaert@uclouvain.be)<br>\n",
    "Antoine Legat (antoine.legat@uclouvain.be)<br>\n",
    "<div style=\"text-align: right\"> Version 2022</div>\n",
    "\n",
    "<br><br>\n",
    "</font>"
   ]
  },
  {
   "cell_type": "markdown",
<<<<<<< HEAD
   "id": "f91dcd63",
=======
   "id": "d9f020ce",
>>>>>>> 8a16e3e63eadba7695ab2ecb6bf21c4e755a3817
   "metadata": {},
   "source": [
    "<font size=5 color=#009999> <b>GUIDELINES & DELIVERABLES</b> </font> <br>\n",
    "-  This assignment is due on the <b>9 December 2022 at 22h00</b>.\n",
    "-  Copying code or answers from other groups (or from the internet) is strictly forbidden. <b>Each source of inspiration (stack overflow, git, other groups,...) must be clearly indicated!</b>\n",
    "-  This notebook (with the \"ipynb\" extension) file, the report (PDF format) and all other files that are necessary to run your code must be delivered on <b>Moodle</b>.\n",
    "- Only the PDF report will be graded on content and quality of the text / figures. <br><br>\n",
    "\n",
    "<div class=\"alert alert-danger\">\n",
    "<b>[DELIVERABLE] Summary</b>  <br>\n",
    "After the reading of this document (and playing with the code!), we expect you to provide us with:\n",
    "<ol>\n",
    "   <li> a PDF file (written in LaTeX, see example on Moodle) that answers all the questions below. The report should contain high quality figures with named axes (we recommend saving plots with the <samp>.pdf</samp> extension);\n",
    "   <li> this Jupyter Notebook (it will not be read, just checked for plagiarism);\n",
    "   <li> and all other files (not the datasets!) we would need to run your code.\n",
    "</ol>\n",
    "</div>\n",
    "\n",
    "<font size=5 color=#009999> <b>CONTEXT & OBJECTIVE </b> </font> <br>\n",
    "    \n",
    "\n",
    "### Context\n",
    "\n",
    "The air in cities is polluted by human activities. Vehicular emissions, heating systems, industries... You probably remember those times when the air is so polluted that it is recommended to stay at home, and not do too much sport outside. It is often related to specific weather conditions (e.g. not enough wind to blow air pollution away).\n",
    "\n",
    "Besides, one could wonder: is it healthy to go running in a city? Do the benefits of sport balance the fact that you are breathing polluted air? Studies show that the answer is yes, as long as you avoid busy roads with dense traffic.\n",
    "\n",
    "Air quality is a crucial issue in our modern society, and its effect is poorly anchored in common knowledge. As engineers of tomorrow, you must be aware of the impact of thermic engines and industries on human health.\n",
    "\n",
    "![](https://api.brusselstimes.com/wp-content/uploads/2022/01/763-45.jpeg)\n",
    "\n",
    "In this hackathon, we will learn to quantify air quality. Wikipedia says that smog (or smoke fog) is composed of nitrogen oxides, sulfur oxide, ozone, smoke and other particulates. How to quantify from those different features?\n",
    "\n",
    "People use the Air Quality Index (AQI). This is a natural number running from 0 to 500+, the lower the better. AQI accounts for the concentration of important pollutants and particles. We usually distinguish 6 classes of air quality, from good to severe (see table below). In this hackathon, we will classify the AQI between only 2 classes: good or bad.\n",
    "\n",
    "\n",
    "![](https://i.imgur.com/XmnE0rT.png)\n",
    " \n",
    "\n",
    "\n",
    "### Objectives\n",
    "\n",
    "The project aims to train a binary classifier to estimate the air quality index (AQI) based on the air concentration of certain pollutants. Note that the AQI is initially defined as a natural number between 0 and 500+. However, to better address the problem, we propose to classify the air quality as poor (labeled 0) or good (labeled 1). The next part of the document will guide you in this process.  \n",
    "\n",
    "### Notebook structure\n",
    "This notebook is organized into four parts. Each of them assesses one fundamental step to solve our problem and provides one visualization tool to gain some understanding:\n",
    "* PART 1 - PREPROCESSING\n",
    "   - 1.1 - Import the dataset\n",
    "   - 1.2 - Split the dataset\n",
    "    <br><br>\n",
    "* PART 2 - EXPLORATORY DATA ANALYSIS \n",
    "   - 2.1 - Binary targets\n",
    "   - 2.2 - Cyclical features\n",
    "   - 2.3 - Correlation matrix\n",
    "   - 2.4 - Features selection\n",
    "   - 2.5 - Data scaling and normalization\n",
    "    <br><br>\n",
    "* PART 3 - MODEL SELECTION\n",
    "   - 3.1 - Precision, recall and F1-score\n",
    "   - 3.2 - Model evaluation\n",
    "   - 3.3 - Model selection and parameters tuning\n",
    "   - 3.4 - Precision-Recall curve and thresholding\n",
    "   <br><br>\n",
    "* PART 4 - MODEL TESTING\n",
    "   - 4.1 - Error computation on the test set\n",
    "   \n",
    "We filled this notebook with preliminary (trivial) code. This practice makes possible to run each cell, even the last ones, without throwing warnings. <br><b>Take advantage of this aspect to divide the work between all team members!</b> <br><br> "
   ]
  },
  {
   "cell_type": "code",
<<<<<<< HEAD
   "execution_count": null,
   "id": "0d5761b7",
=======
   "execution_count": 1183,
   "id": "57e05c76",
>>>>>>> 8a16e3e63eadba7695ab2ecb6bf21c4e755a3817
   "metadata": {},
   "outputs": [],
   "source": [
    "## warnings off\n",
    "import warnings\n",
    "warnings.filterwarnings(\"ignore\")"
   ]
  },
  {
   "cell_type": "markdown",
<<<<<<< HEAD
   "id": "3e1e0ee8",
=======
   "id": "363bed94",
>>>>>>> 8a16e3e63eadba7695ab2ecb6bf21c4e755a3817
   "metadata": {},
   "source": [
    "<br><font size=7 color=#009999> <b>PART 1 - DATA LOADING</b> </font> <br><br>"
   ]
  },
  {
   "cell_type": "markdown",
<<<<<<< HEAD
   "id": "38821224",
=======
   "id": "406efd4d",
>>>>>>> 8a16e3e63eadba7695ab2ecb6bf21c4e755a3817
   "metadata": {},
   "source": [
    "<font size=4 color=#009999> <br> 1.0/1 DISCOVER THE DATASET </font> <br>\n",
    "\n",
    "**Import** `gas_measurements.csv` using `read_csv` [<sup>1</sup>](#fn1) from pandas and **obtain** a brief description of the data (size, variables type, missing values, etc.).  \n",
    "\n",
    "\n",
    "\n",
    "<span id=\"fn1\"> [1] N.B : the separator in the csv file is ',' and not the default comma (see the *`sep`* argument).</span>"
   ]
  },
  {
   "cell_type": "markdown",
<<<<<<< HEAD
   "id": "2ce850a7",
=======
   "id": "0e27cd94",
>>>>>>> 8a16e3e63eadba7695ab2ecb6bf21c4e755a3817
   "metadata": {},
   "source": [
    "<div class=\"alert alert-warning\">\n",
    "    <b>[Question 1.0]</b> Describe, briefly, your dataset (size, variables type, missing values, etc.).<br>\n",
    "</div> "
   ]
  },
  {
   "cell_type": "code",
<<<<<<< HEAD
   "execution_count": null,
   "id": "5f95f4a5",
=======
   "execution_count": 1184,
   "id": "9963cf8d",
>>>>>>> 8a16e3e63eadba7695ab2ecb6bf21c4e755a3817
   "metadata": {
    "scrolled": false
   },
   "outputs": [
    {
<<<<<<< HEAD
=======
     "name": "stdout",
     "output_type": "stream",
     "text": [
      "<class 'pandas.core.frame.DataFrame'>\n",
      "RangeIndex: 44769 entries, 0 to 44768\n",
      "Data columns (total 10 columns):\n",
      " #   Column        Non-Null Count  Dtype  \n",
      "---  ------        --------------  -----  \n",
      " 0   BigUrbanCity  44769 non-null  int64  \n",
      " 1   PM10          44309 non-null  float64\n",
      " 2   PM2_5         43540 non-null  float64\n",
      " 3   SO2           21600 non-null  float64\n",
      " 4   NOx           42499 non-null  float64\n",
      " 5   NH3           21772 non-null  float64\n",
      " 6   CO            43814 non-null  float64\n",
      " 7   O3            44081 non-null  float64\n",
      " 8   Datetime      44769 non-null  object \n",
      " 9   AQI           44769 non-null  object \n",
      "dtypes: float64(7), int64(1), object(2)\n",
      "memory usage: 3.4+ MB\n"
     ]
    },
    {
>>>>>>> 8a16e3e63eadba7695ab2ecb6bf21c4e755a3817
     "data": {
      "text/html": [
       "<div>\n",
       "<style scoped>\n",
       "    .dataframe tbody tr th:only-of-type {\n",
       "        vertical-align: middle;\n",
       "    }\n",
       "\n",
       "    .dataframe tbody tr th {\n",
       "        vertical-align: top;\n",
       "    }\n",
       "\n",
       "    .dataframe thead th {\n",
       "        text-align: right;\n",
       "    }\n",
       "</style>\n",
       "<table border=\"1\" class=\"dataframe\">\n",
       "  <thead>\n",
       "    <tr style=\"text-align: right;\">\n",
       "      <th></th>\n",
       "      <th>BigUrbanCity</th>\n",
       "      <th>PM10</th>\n",
       "      <th>PM2_5</th>\n",
       "      <th>SO2</th>\n",
       "      <th>NOx</th>\n",
       "      <th>NH3</th>\n",
       "      <th>CO</th>\n",
       "      <th>O3</th>\n",
       "      <th>Datetime</th>\n",
       "      <th>AQI</th>\n",
       "    </tr>\n",
       "  </thead>\n",
       "  <tbody>\n",
       "    <tr>\n",
       "      <th>0</th>\n",
       "      <td>0</td>\n",
       "      <td>118.843750</td>\n",
       "      <td>76.640625</td>\n",
       "      <td>11.479375</td>\n",
       "      <td>12.293125</td>\n",
       "      <td>11.379375</td>\n",
       "      <td>0.1</td>\n",
       "      <td>117.62</td>\n",
       "      <td>2017-11-25 09:00:00</td>\n",
       "      <td>Moderate</td>\n",
       "    </tr>\n",
       "    <tr>\n",
       "      <th>1</th>\n",
       "      <td>0</td>\n",
       "      <td>120.205882</td>\n",
       "      <td>77.691176</td>\n",
       "      <td>11.804118</td>\n",
       "      <td>12.143529</td>\n",
       "      <td>11.277647</td>\n",
       "      <td>0.1</td>\n",
       "      <td>136.23</td>\n",
       "      <td>2017-11-25 10:00:00</td>\n",
       "      <td>Moderate</td>\n",
       "    </tr>\n",
       "    <tr>\n",
       "      <th>2</th>\n",
       "      <td>0</td>\n",
       "      <td>120.555556</td>\n",
       "      <td>77.972222</td>\n",
       "      <td>12.003889</td>\n",
       "      <td>11.972778</td>\n",
       "      <td>11.190000</td>\n",
       "      <td>0.1</td>\n",
       "      <td>149.92</td>\n",
       "      <td>2017-11-25 11:00:00</td>\n",
       "      <td>Moderate</td>\n",
       "    </tr>\n",
       "    <tr>\n",
       "      <th>3</th>\n",
       "      <td>0</td>\n",
       "      <td>120.736842</td>\n",
       "      <td>78.026316</td>\n",
       "      <td>12.003889</td>\n",
       "      <td>12.160000</td>\n",
       "      <td>11.095789</td>\n",
       "      <td>0.1</td>\n",
       "      <td>156.80</td>\n",
       "      <td>2017-11-25 12:00:00</td>\n",
       "      <td>Moderate</td>\n",
       "    </tr>\n",
       "    <tr>\n",
       "      <th>4</th>\n",
       "      <td>0</td>\n",
       "      <td>120.736842</td>\n",
       "      <td>78.026316</td>\n",
       "      <td>12.003889</td>\n",
       "      <td>12.160000</td>\n",
       "      <td>11.095789</td>\n",
       "      <td>0.1</td>\n",
       "      <td>156.80</td>\n",
       "      <td>2017-11-25 13:00:00</td>\n",
       "      <td>Moderate</td>\n",
       "    </tr>\n",
       "  </tbody>\n",
       "</table>\n",
       "</div>"
      ],
      "text/plain": [
       "   BigUrbanCity        PM10      PM2_5        SO2        NOx        NH3   CO  \\\n",
       "0             0  118.843750  76.640625  11.479375  12.293125  11.379375  0.1   \n",
       "1             0  120.205882  77.691176  11.804118  12.143529  11.277647  0.1   \n",
       "2             0  120.555556  77.972222  12.003889  11.972778  11.190000  0.1   \n",
       "3             0  120.736842  78.026316  12.003889  12.160000  11.095789  0.1   \n",
       "4             0  120.736842  78.026316  12.003889  12.160000  11.095789  0.1   \n",
       "\n",
       "       O3             Datetime       AQI  \n",
       "0  117.62  2017-11-25 09:00:00  Moderate  \n",
       "1  136.23  2017-11-25 10:00:00  Moderate  \n",
       "2  149.92  2017-11-25 11:00:00  Moderate  \n",
       "3  156.80  2017-11-25 12:00:00  Moderate  \n",
       "4  156.80  2017-11-25 13:00:00  Moderate  "
      ]
     },
<<<<<<< HEAD
     "metadata": {},
     "output_type": "display_data"
=======
     "execution_count": 1184,
     "metadata": {},
     "output_type": "execute_result"
>>>>>>> 8a16e3e63eadba7695ab2ecb6bf21c4e755a3817
    }
   ],
   "source": [
    "\"\"\"\n",
    "CELL N°1 : Import the dataset using pd.read_csv function \n",
    "\n",
    "@pre: filename 'gas_measurements.csv', located in the same folder as this jupyter\n",
    "@post: variable `df` containing the dataframe\n",
    "\"\"\"\n",
    "\n",
    "import matplotlib.pyplot as plt\n",
    "import numpy as np\n",
    "import pandas as pd\n",
    "from sklearn.datasets import load_iris\n",
    "\n",
    "#############################\n",
    "# Start : \n",
    "#############################\n",
    "\n",
    "# @rewrite\n",
<<<<<<< HEAD
    "\n",
    "#features = ['BigUrbanCity', 'PM10', 'PM2_5', 'SO2', 'NOx', 'NH3', 'CO', 'O3', 'Datetime', 'AQI']\n",
    "fullData = pd.read_csv(\"gas_measurements.csv\")\n",
    "#remove first colomn\n",
    "fullData = fullData.iloc[: , 1:]\n",
    "fullData.head()\n",
    "#fullData.info()\n",
=======
    "#features = ['BigUrbanCity', 'PM10', 'PM2_5', 'SO2', 'NOx', 'NH3', 'CO', 'O3', 'Datetime', 'AQI']\n",
    "df = pd.read_csv(\"gas_measurements.csv\", sep= ',')\n",
    "#remove first colomn\n",
    "features = ['BigUrbanCity', 'PM10', 'PM2_5', 'SO2', 'NOx', 'NH3', 'CO', 'O3', 'Datetime', 'AQI']\n",
    "df = df[features]\n",
    "df.info()\n",
    "df.head()\n",
>>>>>>> 8a16e3e63eadba7695ab2ecb6bf21c4e755a3817
    "\n",
    "##########################\n",
    "# End : \n",
    "#########################"
   ]
  },
  {
   "cell_type": "markdown",
<<<<<<< HEAD
   "id": "e0801f9e",
=======
   "id": "9e200587",
>>>>>>> 8a16e3e63eadba7695ab2ecb6bf21c4e755a3817
   "metadata": {},
   "source": [
    "<div class=\"alert alert-warning\">\n",
    "    <b>[Question 1.1]</b> Based on your observations, justify and proceed to the <i>a priori</i> deletion of <b>two</b> troublesome features. \n",
    "</div> \n",
    "\n",
    "<i>HINT</i>: one usually decides of a <i>threshold</i> $\\tau\\in [0,1[$ of the allowed proportion of missing data within a given feature...\n",
    "\n",
    "<b>NOTE</b>: there will remain other features with missing data.. it is not a big deal as soon as the proportion of missing data stays <i>reasonable</i>. In what concerns these features with missing data that are not discarded here, we will proceed with a <i>fill-in</i> operation later on."
   ]
  },
  {
   "cell_type": "code",
<<<<<<< HEAD
   "execution_count": null,
   "id": "947b8499",
=======
   "execution_count": 1185,
   "id": "ab444ed6",
>>>>>>> 8a16e3e63eadba7695ab2ecb6bf21c4e755a3817
   "metadata": {},
   "outputs": [
    {
     "data": {
      "text/html": [
       "<div>\n",
       "<style scoped>\n",
       "    .dataframe tbody tr th:only-of-type {\n",
       "        vertical-align: middle;\n",
       "    }\n",
       "\n",
       "    .dataframe tbody tr th {\n",
       "        vertical-align: top;\n",
       "    }\n",
       "\n",
       "    .dataframe thead th {\n",
       "        text-align: right;\n",
       "    }\n",
       "</style>\n",
       "<table border=\"1\" class=\"dataframe\">\n",
       "  <thead>\n",
       "    <tr style=\"text-align: right;\">\n",
       "      <th></th>\n",
       "      <th>BigUrbanCity</th>\n",
       "      <th>PM10</th>\n",
       "      <th>PM2_5</th>\n",
       "      <th>NOx</th>\n",
       "      <th>CO</th>\n",
       "      <th>O3</th>\n",
       "      <th>Datetime</th>\n",
       "      <th>AQI</th>\n",
       "    </tr>\n",
       "  </thead>\n",
       "  <tbody>\n",
       "    <tr>\n",
       "      <th>0</th>\n",
       "      <td>0</td>\n",
       "      <td>118.843750</td>\n",
       "      <td>76.640625</td>\n",
       "      <td>12.293125</td>\n",
       "      <td>0.1</td>\n",
       "      <td>117.62</td>\n",
       "      <td>2017-11-25 09:00:00</td>\n",
       "      <td>Moderate</td>\n",
       "    </tr>\n",
       "    <tr>\n",
       "      <th>1</th>\n",
       "      <td>0</td>\n",
       "      <td>120.205882</td>\n",
       "      <td>77.691176</td>\n",
       "      <td>12.143529</td>\n",
       "      <td>0.1</td>\n",
       "      <td>136.23</td>\n",
       "      <td>2017-11-25 10:00:00</td>\n",
       "      <td>Moderate</td>\n",
       "    </tr>\n",
       "    <tr>\n",
       "      <th>2</th>\n",
       "      <td>0</td>\n",
       "      <td>120.555556</td>\n",
       "      <td>77.972222</td>\n",
       "      <td>11.972778</td>\n",
       "      <td>0.1</td>\n",
       "      <td>149.92</td>\n",
       "      <td>2017-11-25 11:00:00</td>\n",
       "      <td>Moderate</td>\n",
       "    </tr>\n",
       "    <tr>\n",
       "      <th>3</th>\n",
       "      <td>0</td>\n",
       "      <td>120.736842</td>\n",
       "      <td>78.026316</td>\n",
       "      <td>12.160000</td>\n",
       "      <td>0.1</td>\n",
       "      <td>156.80</td>\n",
       "      <td>2017-11-25 12:00:00</td>\n",
       "      <td>Moderate</td>\n",
       "    </tr>\n",
       "    <tr>\n",
       "      <th>4</th>\n",
       "      <td>0</td>\n",
       "      <td>120.736842</td>\n",
       "      <td>78.026316</td>\n",
       "      <td>12.160000</td>\n",
       "      <td>0.1</td>\n",
       "      <td>156.80</td>\n",
       "      <td>2017-11-25 13:00:00</td>\n",
       "      <td>Moderate</td>\n",
       "    </tr>\n",
       "  </tbody>\n",
       "</table>\n",
       "</div>"
      ],
      "text/plain": [
       "   BigUrbanCity        PM10      PM2_5        NOx   CO      O3  \\\n",
       "0             0  118.843750  76.640625  12.293125  0.1  117.62   \n",
       "1             0  120.205882  77.691176  12.143529  0.1  136.23   \n",
       "2             0  120.555556  77.972222  11.972778  0.1  149.92   \n",
       "3             0  120.736842  78.026316  12.160000  0.1  156.80   \n",
       "4             0  120.736842  78.026316  12.160000  0.1  156.80   \n",
       "\n",
       "              Datetime       AQI  \n",
       "0  2017-11-25 09:00:00  Moderate  \n",
       "1  2017-11-25 10:00:00  Moderate  \n",
       "2  2017-11-25 11:00:00  Moderate  \n",
       "3  2017-11-25 12:00:00  Moderate  \n",
       "4  2017-11-25 13:00:00  Moderate  "
      ]
     },
     "execution_count": 1185,
     "metadata": {},
     "output_type": "execute_result"
    }
   ],
   "source": [
    "#############################\n",
    "# Start : \n",
    "#############################\n",
    "\n",
    "# @rewrite\n",
    "tau = 0.1\n",
    "n = df.isnull().sum() #calcul le nombre de données manquantes pour chaque colonne\n",
    "df = df[n[(n/df.shape[0]<tau)].index] #garde seulement celle où le taux de données manquantes est inférieure à tau\n",
    "df.head()\n",
    "\n",
    "##########################\n",
    "# End : \n",
    "#########################"
   ]
  },
  {
   "cell_type": "markdown",
<<<<<<< HEAD
   "id": "32b0bd9a",
=======
   "id": "ef7784af",
>>>>>>> 8a16e3e63eadba7695ab2ecb6bf21c4e755a3817
   "metadata": {},
   "source": [
    "<font size=4 color=#009999> <br> 1.2 - SPLIT THE DATASET </font> <br> \n",
    "\n",
    "Data science projects begin by the division the **whole** dataset into a **training** and a **test** set. The subsequent analysis and decisions (i.e. features selection, pre-processing, model selection, etc.) are, then, conducted only on the _training set_ to stay statistically significant during the **testing phase**. The latter will, thus, only be conducted on the _test set_.  \n",
    "\n",
    "We invite you then to **split** [<sup>2</sup>](#fn2) the dataset into a _training_ and a _test_. The proportion of each subset is at **your own discretion**.\n",
    "\n",
    "\n",
    "<span id=\"fn2\"> [2] N.B. Set the seed of your random split with `random_state = 42` to obtain reproducible results.</span>\n",
    "\n",
    "\n",
    "\n",
    "<div class=\"alert alert-warning\">\n",
    "    <b>[Question 1.2]</b> What are the drawbacks (if any) of choosing a small test set (in proportion)? On the contrary, what are the consequences (if any) of a relatively large testing set (in proportion)? <br>\n",
    "</div> "
   ]
  },
  {
   "cell_type": "code",
<<<<<<< HEAD
   "execution_count": null,
   "id": "881d4951",
=======
   "execution_count": 1186,
   "id": "1a896652",
>>>>>>> 8a16e3e63eadba7695ab2ecb6bf21c4e755a3817
   "metadata": {},
   "outputs": [],
   "source": [
    "\"\"\"\n",
    "CELL N°2 : SPLIT THE DATASET    \n",
    "\n",
    "@pre:  'df' a pandas frame with the entire dataset\n",
    "@post: 2 pandas frames with the train and test sets\n",
    "\"\"\"\n",
    "\n",
    "from sklearn.model_selection import train_test_split\n",
    "\n",
    "#############################\n",
    "# Start : \n",
    "#############################\n",
    "\n",
    "# @rewrite\n",
    "\n",
<<<<<<< HEAD
    "data_train, data_test = train_test_split(fullData, test_size=0.3, random_state=42, shuffle=True)\n",
=======
    "data_train, data_test = train_test_split(df, test_size=0.3, random_state=42, shuffle=True)\n",
>>>>>>> 8a16e3e63eadba7695ab2ecb6bf21c4e755a3817
    "\n",
    "##########################\n",
    "# \n",
    "#########################"
   ]
  },
  {
   "cell_type": "markdown",
<<<<<<< HEAD
   "id": "6e94f488",
=======
   "id": "79f22b51",
>>>>>>> 8a16e3e63eadba7695ab2ecb6bf21c4e755a3817
   "metadata": {},
   "source": [
    "<br>\n",
    "\n",
    "<br><font size=7 color=#009999> <b>PART 2 - EXPLORATORY DATA ANALYSIS </b> </font> <br><br>\n",
    "\n",
    "\n",
    "We **analyze** the distribution of the features _AQI_ in the binary scenario. Namely, air quality is considered either <ol> <li>**bad** (AQI : Poor, Very Poor, Severe) </li> <li>**good** (AQI : Good, Satisfactory, Moderate)</li> </ol>\n",
    "\n",
    "We conduct the analysis on the <i>training set</i>, avoiding therefore any modelling decision based on _unseen_ data (<i>test set</i>). In most cases, we assume that the distribution of this latter set stays similar to the <i>training set</i>."
   ]
  },
  {
   "cell_type": "markdown",
<<<<<<< HEAD
   "id": "f98cb585",
=======
   "id": "62e24490",
>>>>>>> 8a16e3e63eadba7695ab2ecb6bf21c4e755a3817
   "metadata": {},
   "source": [
    "<font size=4 color=#009999> <br> 2.1. Binary targets  </font> <br>\n",
    "\n",
    "<div class=\"alert alert-warning\">\n",
    "    <b>[Question 2.1]</b> Are the binary classes balanced? What are the proportions of data in each class? Briefly, justify your answer and add a visualization.\n",
    "</div> \n"
   ]
  },
  {
   "cell_type": "code",
<<<<<<< HEAD
   "execution_count": null,
   "id": "080070fc",
=======
   "execution_count": 1187,
   "id": "1ca50563",
>>>>>>> 8a16e3e63eadba7695ab2ecb6bf21c4e755a3817
   "metadata": {},
   "outputs": [
    {
     "data": {
<<<<<<< HEAD
      "image/png": "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",
      "text/plain": [
       "<Figure size 432x288 with 1 Axes>"
=======
      "image/png": "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",
      "text/plain": [
       "<Figure size 640x480 with 1 Axes>"
>>>>>>> 8a16e3e63eadba7695ab2ecb6bf21c4e755a3817
      ]
     },
     "metadata": {},
     "output_type": "display_data"
    }
   ],
   "source": [
    "\"\"\"\n",
    "CELL N°3 : Binary targets: proportion and binarization\n",
    "   \n",
    "@pre:  Training dataframe  \n",
    "@post: Proportion of each binary class in this train set, a pie chart representing it, \n",
    "a modified training dataframe with a new column 'AQI_binary' continaining the binary targets \n",
    "\"\"\"\n",
    "\n",
    "#############################\n",
    "# Start :\n",
    "#############################\n",
    "\n",
    "# @rewrite\n",
    "import matplotlib.pyplot as plt\n",
    "import numpy as np\n",
<<<<<<< HEAD
=======
    "\n",
    "y_binary_train = np.where((data_train['AQI']=='Poor') | (data_train['AQI']=='Severe') | (data_train['AQI']=='Very Poor'), 0, 1)\n",
    "y_binary_test = np.where((data_test['AQI']=='Poor') | (data_test['AQI']=='Severe') | (data_test['AQI']=='Very Poor'), 0, 1)\n",
>>>>>>> 8a16e3e63eadba7695ab2ecb6bf21c4e755a3817
    "\n",
    "data_train['AQI'] = data_train['AQI'].replace(['Severe'], 0)\n",
    "data_train['AQI'] = data_train['AQI'].replace(['Very Poor'], 0)\n",
    "data_train['AQI'] = data_train['AQI'].replace(['Poor'], 0)\n",
    "data_train['AQI'] = data_train['AQI'].replace(['Moderate'], 1)\n",
    "data_train['AQI'] = data_train['AQI'].replace(['Satisfactory'], 1)\n",
    "data_train['AQI'] = data_train['AQI'].replace(['Good'], 1)\n",
    "\n",
<<<<<<< HEAD
    "y_train = data_train['AQI']\n",
    "y_train_binary = np.bincount(y_train) \n",
    "\n",
    "plt.title(\"Pie Chart - AQI\")\n",
    "plt.pie(y_train_binary, labels = [\"BAD\",\"GOOD\"], autopct='%1.1f%%')\n",
    "plt.show() \n",
    "\n",
=======
    "plt.title(\"Pie Chart - AQI\")\n",
    "plt.pie(np.bincount(y_binary_train), labels = [\"BAD\",\"GOOD\"], autopct='%1.1f%%')\n",
    "plt.show()\n",
>>>>>>> 8a16e3e63eadba7695ab2ecb6bf21c4e755a3817
    "##########################\n",
    "# End : \n",
    "#########################"
   ]
  },
  {
   "cell_type": "markdown",
<<<<<<< HEAD
   "id": "a47f2bd0",
=======
   "id": "4583ad67",
>>>>>>> 8a16e3e63eadba7695ab2ecb6bf21c4e755a3817
   "metadata": {},
   "source": [
    "<font size=4 color=#009999> 2.2. Cyclical features </font> <br>\n",
    "\n",
    "<b>Establish</b> a <i>cyclical</i> feature transformation and store the new features in the corresponding variables. \n",
    "\n",
    "<span id=\"fn3\"> Many features are cyclical in nature. One example is time: months, days, weekdays, hours, minutes, seconds etc. are all cyclical.</span> "
   ]
  },
  {
   "cell_type": "markdown",
<<<<<<< HEAD
   "id": "dfabb63d",
=======
   "id": "6f83c0c9",
>>>>>>> 8a16e3e63eadba7695ab2ecb6bf21c4e755a3817
   "metadata": {},
   "source": [
    "<div class=\"alert alert-warning\">\n",
    "    <b>[Question 2.2]</b> Explain your transformation and the need to use cyclical features in some cases. What is the point to not simply encode features in a categorical way (e.g. morning=0, afternoon=1, evening=2, night=3)? \n",
    "</div>  \n",
    "\n",
    "<i>HINT</i>: what happens between 23:00:00 and 00:00:00 ?"
   ]
  },
  {
   "cell_type": "code",
<<<<<<< HEAD
   "execution_count": null,
   "id": "48687198",
=======
   "execution_count": 1188,
   "id": "6d76c996",
>>>>>>> 8a16e3e63eadba7695ab2ecb6bf21c4e755a3817
   "metadata": {},
   "outputs": [
    {
     "data": {
<<<<<<< HEAD
      "image/png": "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",
      "text/plain": [
       "<Figure size 432x288 with 1 Axes>"
=======
      "image/png": "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",
      "text/plain": [
       "<Figure size 640x480 with 1 Axes>"
>>>>>>> 8a16e3e63eadba7695ab2ecb6bf21c4e755a3817
      ]
     },
     "metadata": {},
     "output_type": "display_data"
    },
    {
     "data": {
<<<<<<< HEAD
      "image/png": "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",
      "text/plain": [
       "<Figure size 432x288 with 2 Axes>"
=======
      "image/png": "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",
      "text/plain": [
       "<Figure size 640x480 with 2 Axes>"
>>>>>>> 8a16e3e63eadba7695ab2ecb6bf21c4e755a3817
      ]
     },
     "metadata": {},
     "output_type": "display_data"
    },
    {
     "data": {
<<<<<<< HEAD
      "image/png": "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",
      "text/plain": [
       "<Figure size 432x288 with 1 Axes>"
=======
      "image/png": "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",
      "text/plain": [
       "<Figure size 640x480 with 1 Axes>"
>>>>>>> 8a16e3e63eadba7695ab2ecb6bf21c4e755a3817
      ]
     },
     "metadata": {},
     "output_type": "display_data"
    }
   ],
   "source": [
    "\"\"\"\n",
    "HINT CELL : This cell is intended to help you understand CELL N°4 (bis) and to answer the corresponding questions. \n",
    "Observe how the final plot looks like a clock ;\n",
    "\"\"\"\n",
    "\n",
    "hours = [i for i in range(24)]*2\n",
    "plt.scatter(np.arange(len(hours)),hours,label='data points')\n",
    "plt.plot(np.arange(len(hours)),hours,color='red')\n",
    "plt.grid()\n",
    "plt.title('Visualization')\n",
    "plt.legend()\n",
    "plt.ylabel('hour of the corresponding day')\n",
    "plt.xlabel('cumulative hour')\n",
    "plt.show()\n",
    "\n",
    "\n",
    "sin_hours = np.sin(2 * np.pi * np.array(hours)/24.0)\n",
    "cos_hours = np.cos(2 * np.pi * np.array(hours)/24.0)\n",
    "\n",
    "plt.subplot(2,2,1)\n",
    "plt.plot(hours[0:24], sin_hours[0:24])\n",
    "plt.title('sinus component')\n",
    "plt.subplot(2,2,2)\n",
    "plt.plot(hours[0:24], cos_hours[0:24])\n",
    "plt.title('cosinus component')\n",
    "\n",
    "ax, fig = plt.subplots()\n",
    "fig.set_aspect('equal')\n",
    "plt.xlabel('sin_hour')\n",
    "plt.ylabel('cos_hour')\n",
    "plt.scatter(sin_hours[0:24], cos_hours[0:24])\n",
    "plt.show()\n"
   ]
  },
  {
   "cell_type": "code",
<<<<<<< HEAD
   "execution_count": null,
   "id": "307432f1",
=======
   "execution_count": 1189,
   "id": "c1db4d10",
>>>>>>> 8a16e3e63eadba7695ab2ecb6bf21c4e755a3817
   "metadata": {},
   "outputs": [],
   "source": [
    "\"\"\"\n",
    "CELL N°4 : Time feature conversion\n",
    "   \n",
    "@pre:  Training and testing dataframe\n",
    "@post: Training and testing dataframe with a new colum 'hour' filled with the corresponding hour of the day (integer)\n",
    "\n",
    "DO NOT FORGET TO APPLY TRANSFORMATIONS TO BOTH data_train AND data_test\n",
    "\"\"\"\n",
    "from datetime import datetime\n",
    "\n",
    "def datetime_to_hour(date_time):\n",
    "    hours = []\n",
    "    for date in date_time:\n",
    "        datetime_obj = datetime.strptime(date, '%Y-%m-%d %H:%M:%S')\n",
    "        hours.append(datetime_obj.hour)\n",
    "    return hours\n",
    "\n",
    "#############################\n",
    "# Start : \n",
    "#############################\n",
    "\n",
    "data_train['hour'] = datetime_to_hour(data_train['Datetime'])\n",
    "data_test['hour'] = datetime_to_hour(data_test['Datetime'])\n",
    "\n",
    "##########################\n",
    "# End : \n",
    "########################"
   ]
  },
  {
   "cell_type": "code",
<<<<<<< HEAD
   "execution_count": null,
   "id": "671fc521",
=======
   "execution_count": 1190,
   "id": "d1172954",
>>>>>>> 8a16e3e63eadba7695ab2ecb6bf21c4e755a3817
   "metadata": {},
   "outputs": [],
   "source": [
    "\"\"\"\n",
    "CELL N°4 (BIS) : Cyclical features transformation\n",
    "   \n",
    "@pre:  Training and testing dataframe\n",
    "@post: Training and testing dataframe with two new columns 'sin_hour' and 'cos_hour' with hours of the day encoded in a cyclical way\n",
    "       \n",
    "Afterwards, you can drop the column 'Datetime', useless from now on :) \n",
    "\n",
    "DO NOT FORGET TO APPLY TRANSFORMATIONS TO BOTH data_train AND data_test\n",
    "\"\"\"\n",
    "\n",
    "def categorical_to_cyclical(features, max_value=24):\n",
    "    sin_features = np.sin(2 * np.pi * features/max_value)\n",
    "    cos_features = np.cos(2 * np.pi * features/max_value)\n",
    "    return (sin_features, cos_features)\n",
    "\n",
    "#############################\n",
    "# Start : \n",
    "#############################\n",
    "\n",
    "data_train['sin_hour'], data_train['cos_hour']= categorical_to_cyclical(data_train['hour'])\n",
    "data_test['sin_hour'], data_test['cos_hour']= categorical_to_cyclical(data_test['hour'])\n",
    "data_train = data_train.drop(['Datetime'], axis=1)\n",
    "data_test = data_test.drop(['Datetime'], axis=1)\n",
    "\n",
    "##########################\n",
    "# End : \n",
    "########################"
   ]
  },
  {
   "cell_type": "markdown",
<<<<<<< HEAD
   "id": "d73a299a",
=======
   "id": "8765de9d",
>>>>>>> 8a16e3e63eadba7695ab2ecb6bf21c4e755a3817
   "metadata": {},
   "source": [
    "<font size=4 color=#009999> <br> 2.3. Correlation matrix </font> <br>\n",
    "\n",
    "__Compute__ and __plot__ the correlation matrix. For the plot, you can use the function `imshow` or `matshow` from `matplotlib`."
   ]
  },
  {
   "cell_type": "markdown",
<<<<<<< HEAD
   "id": "381a4060",
=======
   "id": "afd19fa7",
>>>>>>> 8a16e3e63eadba7695ab2ecb6bf21c4e755a3817
   "metadata": {},
   "source": [
    "<div class=\"alert alert-warning\">\n",
    "    <b>[Question 2.3]</b> With the help of your plot and numerical results of cell 6, write your observations down.  <br\n",
    "                                                                                                                \n",
    "</div> "
   ]
  },
  {
   "cell_type": "code",
<<<<<<< HEAD
   "execution_count": null,
   "id": "dcccee6e",
=======
   "execution_count": 1191,
   "id": "06749920",
>>>>>>> 8a16e3e63eadba7695ab2ecb6bf21c4e755a3817
   "metadata": {},
   "outputs": [
    {
     "data": {
<<<<<<< HEAD
      "image/png": "iVBORw0KGgoAAAANSUhEUgAAAmYAAAJACAYAAAAn2aqhAAAAOXRFWHRTb2Z0d2FyZQBNYXRwbG90bGliIHZlcnNpb24zLjQuMywgaHR0cHM6Ly9tYXRwbG90bGliLm9yZy/MnkTPAAAACXBIWXMAAAsTAAALEwEAmpwYAABESElEQVR4nO3deZhkZXn///dnhkUQ2UfFAcQFI2rAyIi7oqAiajBucV+IP9wwGv0mkKiJ0bgnSiIiThRBxH1DBUVQUDGKDC4oIDCyDqCssu9z//54TmPZ9Mw0PdN9Tjfv13XV1V2nnjrnrurqqrvuZzmpKiRJktS/eX0HIEmSpMbETJIkaSBMzCRJkgbCxEySJGkgTMwkSZIGwsRMkiRpIEzMJEmSxklyUJKLk/xmBbcnyf8kWZrk5CQPWxPHNTGTJEm6vYOB3VZy+9OAbbvLXsDH1sRBTcwkSZLGqaofApevpMkewKer+SmwcZItVve4JmaSJEl33ELg/JHry7ptq2Wt1d2BJEnS6tpx3l3rqrp1xo63lBtPAW4Y2bS4qhbfgV1kgm2rfZ5LEzNJktS7q+pW9lvr3jN2vGfccsYNVbVoNXaxDNhq5PqWwIWrF5WJmSRJGoJA1p6oCDVNblntPXwD2DvJ54FHAFdW1UWru1MTM0mrJclxwG+qau/V3M/BwOZV9Yw1EddQrannS9L0SvI5YGdg8yTLgH8D1gaoqgOBI4HdgaXAdcAr18RxTcykWSTJPYB/AZ5BK5tfCpwMfKSqjuwztslKsjNwLLCgqi4duemNTDxmY00f/zjgCcDbq+o/xt32ReB5wEcnmzgl2QY4G3h4VS2ZxF2eDdx8R2KW7gySMG+tGayYrUJVvXAVtxfw+jV9XGdlSrNElwD8HHgq8M/A9sCuwBHAgaux37WS3O7dMMk6U93nVFTVlVX1xxk63PnAK0cfd5LNgL/mz2dZrTFjz2dVXV5VV0/HMSTNfiZm0uxxAK2itKiqvlhVp1fVaVW1P7DDWKMkWyf5WpKru8tXk2w5cvs7kvwmySuS/A64Ebhrkkry+q79tcB7uvbPTHJSkhuSnJ3k3StL2pK8JMmJ3bEvTvKlJAu727ahVcsALumOeXB328FJvjWyn3WT7JfkD92xf5rksSO379zdf5ckJyS5LsmSSa6+/W1gA1o3xZiXACcAZ417PLsl+VGSK5JcnuSoJNuNNDm7+3liF89xo48nyT5dN8iybvtxSfbvfv+LJNcmedm4492U5JGTeBzS3BHI2vNm7DJUw41M0m2SbEpbgXr/qrpm/O1VdUXXLsDXgXsATwKeCNwL+Pq4qth9gBfRuu124E9Txv+NNm7iL4GPJnkqcBiwP/BgYE/guXRJ2wqs0+1nB1qX6+bA57rbzgee0/3+YGALWhfmRD4A/G13zL8Cfg18Z4IFHN8L7As8DLgMOGyiCuA4NwOf7vY9Zk/gkxO0vSuwH7ATLZG7EvjmSHK6U/dzt+7xPHvkvk+gVTZ3A3YZv+OqOh34B2D/JPdLsoC22vi7uwUrJd3JOMZMmh3uT6uWnbaKdrvSEqL7VdU5AEleRBucugtwTNduHeClVfWHsTt2ucwXquoTI9sOAT5YVZ/qNv0uyT7AZ5L8YzfG4s9U1UEjV89K8lrgtCRbVtWyJGMraV88bozZbZLcFXgt8KqqOqLb9hpasvl64G0jzd9eVcd2bd4JHE9b5HHZSp4ngIOAJUleDzwA2Ab4Mn+erFFVXxkX2yuBq2gJ2fHAJd1Nl1XV78cd4wZgz6q6cUVBVNXiJE+jJcCXAb8D/mNF7SXNbSZm0uww2RGx2wEXjiVlAFV1VpILgQfxp8Rs2WhSNmL84PUdgZ26ZGzMPGA94J7A7aaGd12J/wY8FNh0JPatWXWyNOZ+tNlPPx55HLcm+Un3OEadPPL72BpCd1/VsarqtCS/Al7Yxfr5qrpufLEtyf2Ad9Gmwy+gPf553eNZld+sLCkb8SrgdFoVcfuqGVxlUxqKMKjB/30xMZNmhzNpK0pvB3xtJe3CileeHt1+7QrajN8+D/h34EsTtL1k/Iau0nUULQF8KXAxrSvzR7Qq3WSNvTtP9FjGb7t5gtsmO0zjIOB1wH1pkyom8k3gAuDV3c9bgFOZ3ONZ0fM83kOAjbrfF/KncWuS7mRMzKRZoKouT3IUbTHD/xk/zizJxt2MxlOBhUm2GenKvC9tnNmpUzj0z4EHVtXSSbZ/IC0R+5eqOrs7/rPHtbmp+zl/JftZ2rV7LN1g/CTzgUcBn51kLJPxBdr4sXOq6oTxN3YzNbcDXj/SXfow/vy9czKPZ4WSbEwb7/aftErkoUl2qKqrprI/adaa6QVmB8rB/9Ls8TpaJWlJkud1M/oe2I3hGuvOOwb4FW0A/I5JFtHGLv0c+P4UjvlO4EVJ3pnkId3xnpvkAytofx5tlufeSe6b5Om0bsBR59IqW09PsiDJBuN3UlXXAh8D3pdk924W5MdokxoOmMLjmFC3bMVCYEUzIK+grRX3/yW5f5In0JYmGV0z/GLgeuCpSe6RZKMJ9rMyB3bH+FdgH+Bq4KN3cB+S5ggTM2mW6CpQDwOOBt5PS8a+T1t769VdmwKeRetmPI62NMXvgWdNNFB/Esc8Cng6bXbnz7rLvrQEbKL2lwAv72I4lTbW7M3j2lzQbX838AfajM+J7AN8EfgU8Eu62Y1r4pQn4+K5cqKZrt1ty2kzQ7cHfkNLmN5OSz7H2twC/D1tnNiFwOGTPXaSl9L+fi+uqpu78WgvAp6bZKWLW0pzTboFZmfqMlSZwnu1JEnSGvUX665fH9vi/jN2vF3O/fVJq3kS82nhGDNJktQ/x5gBdmVKkiQNhhUzSZLUP9cxA6yYSZIkDYYVM0mS1LsAmW/FzIqZJEnSQJiYSZIkDYRdmXNQknndwphj1+d3J4D+C+DsqrppJXeXJGnmBebZlWnFbK5Isl7385G08yKObd+kS8pCOzXPwp5ClCRJq2DFbBZLsjawDnBfYA/gP4BFwI5JlgPnAM9O8vGqWpLk/2iJ2dk9hSxJ0gqEzLNiZmI2CyXZBXgOsB3tPINHVNV/dDdvBzwP+C5wCPAA4MVJ1gGuBE6b+YglSdJkmJjNMkkWAf8f8DXgn4ANgXlJ3karnn0YuAH4XFVdl+STtJNQvxZ4KPCBPuKWJGmlApnvCCufgYFLMq8bHzbmWcCPq+oLVXVNVV1YVdcBxwA7VNVS4GJge4CuzReAM4ELgHvO7COQJN1RafyMvhPyjz5QY8lYVS2vquq23RXYADhuXLIG8EvgpiR/BfwUeGCSg5O8tLv9MOAyYOlMxC9JmrpqlgMk2aLveGZCaLMyZ+oyVCZmAzH+21FVVbftCUm+kORfgetpidlfjCVr3X3XBjYDvg+8tqp+AHyPNp7s+12z3YC7dBdJ0kB07/UZt+1uSd6f5Fjg7Un+uqfwNMMcYzYQXaI1mmytAxwK3Ar8F/AW2jixQ4HnJLmmqr7TJWXPo3VTHg2slyRVdRRw1MghLgD+qaqun5EHJElaobEv4uN6RbYAllfVH2gTty6lfal+KvAPSX5bVWf0FfO0C87KxMRsxiVZn1b5YlzVaxvgNcCmtIH7xyY5D9iiqn6WZH/gXVX10W4fr0uyB20W5jLg7VV1NvChkX0GSPeP//WZeYSSpFHdl+VK8vCqOrG7PtZNuR6wLvAvwNOAX3WTuZ5Km7D1CWDj7ucFfcSvmWVX5gxK8mjgHcCC7p90bFHYbYF/AE4HvgK8I8k9gE8DmyZZp6p+BCzs/rG/TUvivgb8dVW9pEvKxo4zNj7ttjEKmpokd03y8iQP6zsWSbNPknVH3u+fMpKkbZ/kHcBJwH7AlVX1l7QhKK8Dvg7sAOxXVc8E/gA8uo/HMHNmbnyZY8zupMYSpJGxYxcC1wAvTXIQ8PUkL62qM4F9gfOB5wIPAp5CG6j/R1pXJcAngXsAdLMxv1tVV3UzN/9sfNq0P7iVSLJhkn2TfDfJ7kk26jOeqUhy9yT/TRur90Dg2p5DkjTLdJOxHg7QDSM5gFYFA9gbeGBVPYiWnD2x2/5p4ElVdSqwmLYO5bH8aciK5ji7MqdBkh2AvwEOAs6rquVJHgw8GTgX+FvgY8CPaDMsTwOuA14C/D1wVtf2COBbtDI3VfW+iY43wKrYXwNbA/8PeBntW97bxp/Dc+Dm0x7DG2jJ8Y1j5xztNSoNTje04EZfGxodN9Zt2hB4fpK/BX5GW8rog7TljI4Dntm1+zzw1CRbV9V5SeYneW5V/VeS7YClVXXzTD4W9ceK2RqQZJ0kTx+ZVXMh7TRJW3bVo88DbwV+R0vMbgQurKo/At8Ang3cHfhL4NW0f9ozgVur6rNV9amRY82foYc1KUmem2RxkieObN6I9vhOpn1D3AMGmUCuUFVdREuQ/xv4CO3N9F+6yRaDkuRZSfZP8uwhxrcyEyz7Mmsk2TXJZ4Fv0wZm373vmNSvbjzv8iRjs9+vBZ4PbAGc2E3KmtcN8v8xcFmSv6qqS2jLGY0tb/RS4Jjuy+xpQ0jKkqw7/ceAzM+MXYbKxGw15M8X/3svrcuL7p/sLFrJ+hZa9eW8qvomrXvyJGDn7n5n0sYWHEerol0NvLqq3lVVV3bHue0VNIRv5Uke0v18EK3KNx/Yvds2j/aYL05y16o6C7g8yVO623v/b0iyfpKXJPlKl9RsNBrbyN/1QOBVVbUb8HZa8vyYXoKeQJIFSd4PvBg4mfaaelmvQU1Ckk3Hfh83AWaHbhzmYCXZKskjktwNeCzwRdqH6Pa0CuvgjbzOe/9fnM2S3DPJ08Zte1Da2Va+l+TfaOPF9qXNkB/rhvw/4CVVdS5wFfCMbvt7gM8AVNVvquqPQ/kym2Qt4JAkz+qu+9qZRnZlTsFYl9bYP01V3ZTkSNosmrFzUf6Itkr/prTZNK/ptl9EG0v2miQ7AtsCe3b7+cTIMUYH8Pc6ZmxUkhcBn0nyyG626POALWnVpPtU1dlJLqdN9b4fLWH4Cq1k/93eAgeSbE2rZn6Ath7cQbS/2SNpb56hPeVjf9czx+5bVWckuRfttFe9SHI/2jlSNwAOrqqzkny6qk7pbt+bliQPTpJNgDcCjwB+n+SEqjqwqxxs31USXk/Pr5GJJNmgqq7pqpGPB55aVS+jTeQZaxPaF5JBSnJv2peohwLfT3JYVV3Vb1STl+T+tMrTDsBhVfWNnuKYT1vOomjdknt3f/v7AB+nfUE9tqr+LskPaDPwj6GND1sI/JY2VvhLtCr8F4CbAKrq9Bl+OCvUjY17MXAecExVndo9nl1pkxLCyPJOa/TY86wX+QxMUpK/616st1WtkmyX5LVJnktbX2yXkXLv/9GmON+j+33dJA/r7vtbWhfZe6rq4VX165HjjI1R6D0h6yYVPDfJh0eqSHcHfgLct/vAupl2bs7fA0/q2pzYbXtBd/1W2niKXiYmdI/jW7SzH2wCvKOqXlFVR9Bmtt6li23Cb6dJNklbmgTa0iQzphu/RFdx/F/al6nTgE8n2bmqThnp3l5IG9MyCGle2F19IbAe7QvKvwIvSPJMWvL+rCSH0P4Ox/QS7Dhd7C9JsjuwT1f9vRk4Abgi3SzdrkLyVeBhwN8OqeKXNoxiuy6h/E9a0v5PtC8i/9xVvAdb/UiyQfdzY1rSsy5t9uI/JnnEDMWw/uj17gt5dRWk0IZt/A/t/e4ewL2AZyb5Iq1r8oe0XpJLgQ8k+XpVnUAbskJV/aqqTmNAkjyf9no5j/YYDuteK98BHpBko6FU8uYqK2YrkDZe5Pm0b/iLaYnF+d1tC4HP0saLBbilqr7cvb89HDi+qq7vPjDvV1UnJTkJeDDw8+4f84SRY902qHwIL/juw+gVtAVrXwzcnzZw9XPAJbSEfmtaknYNbXD8r+mmclfVOd0H7X8mOQJYv9vfTMW/PvBK4PqqOoiWIF/bxXqfrtKXLkl8Ge0b4Ir29TDa3//XwAHdTKlpl+QZtOrYPZLsSRuH+F9dMjn2ofW3SU6uqsuTbAY8oqqetOK9zoyuq/KP3Vibf09yC2385GFd9w1J/pM2SeTNtC8ue9MSti8B3+wn8tvF/hbaB+vZtKT3DFpVbEPa//nPaRXYN1bV+UneByxK8tM+/4+T7EzrXn0wcCQtoflVVf1Hd/vf0/4fXw7swzRWP6YiyS60950HJvk/4ItVtcvI7d+kxTydMexOm6S1ddqMyCOrakmSv6NV/4+nDdh/N/DKqvpklwBfTUvWXkyb0LUHbbjK/rTlkJYAVFvyaBCS7Ao8vKre2713vg54blVd2t1+V1rF7zDgN7SeoENG3kPXYDAuMAtWzCbUfcs/l/YG/G3aB8Z84OCucvQA4LiuO+NDwPIkD6S9cJ+T5PlJ3kyrAPys2+2/VdWh444z1l3Z+7ixMUm+Qhsv9zFgAa3r4Ne09dT2pZ2T81u0Ltit4LZp4D8CNk7y7iSP6f6p9wVeV1VPHPtAnsa410/y0iQH0D503gi8Nsl9q+py2gfPWsB9kqzffevdmvZ3/cnIfpKRE8dX1c+Bx1XVK6vqe9P5GEZieBnwKuDLtErTcuBmYOlIdexLtMR4s+76TsDnkqyX5InpaSB6kuNppwF7XLfpg7SFMy+gxT/2nvMdWnJ/jy6JuS/t/2y3JP+ZtrbfjJog9v1plbDLaIP79wcOoSX6i9LWF/xjVZ3ftd8AOKPnpGx9WkJ/ZFU9sqreSety27a7fa1u7OqxwDbdY+j9y+CYtPGezwe+VVWPpiU1r0/y6K4C+G1gL7olKKYphq8A7wM+RZtdvxx4VdopkbYD3t813btLsDZJsl1XUf0S7bn9MC0pfghtke8bq+pbVfX76Yp7Nfw98MokO9G+RJ9Jm6ww5nharrAlbfmgXaH/ZZnmMhOziZ0M/Kiq3lNVn+22XUUbL/Y02ot27APyVNo4gqdV1edpH6Z/A6wN/GNVnQOtEja+y2CgL+zDaRW/Y2ndB3+gdf8dBTyK9kH7beAUYIfuzXJD2ofvo4B70ypTVNXvpzshg9sqmMtoH6hfo31bLeBXtKnqu/CnCudDgXt2d/1L2t/6+rRFZOd1PcjLu8Tt/kmeQ3uzmpEun+4YGwK/rqojug/RtWgVm7Wr6taxhID2Ghtb+PbNtOVJjqSth9TXh+0BtGTx1UkeShvHt2EX0xZ0uW9V3UIbW/OwrtKwKe1v9zbgf0fH9/UY+6dpr5W1aIP7f1FVT6BVmv4IPCbtfIYfTxt/czPt/6JPTwC2raqvwG2vp+/ThlJs0D3v0D5kz2N4YxIfS6tqf7W7fhDwU9rYvvVpyfJf0RKJl8G0/F8eDvygqo7r/s/eT3v/X0Cbof0k2jCNHZLck/Z++IYk+9GS9v2AD3VfSN82VnkampEvSSfRKsN/Cfwj7T1xdCLLubT3mQtohYZt08a7TkdULjCLidmK/BZYluRdSf6Llmw8gjYw+fndz+3SZuQ8lVYZe0iSDavqx1X1wqp6f1X9bnSnA03ExjsGuH+Su1TVZbTk5lbaB9P7aeX5rYAf0BKxTbvbvwr8ZbWzEPxqhmO+iLbm25er6mhaQrmQNu7tZ8A7aevC7QdsTvtQgpZMvoI2APfBwPpJNkgbN/h52rfmC4ErYGb+ft0xfk370N8/ye9o3U33pY1h3KbaZJO1aMuvLO0+HH7dPZ6nVtW/9vhhcBzwC9rf4x20CsN3aK+TXYCndEnvE2lv+F+l/U0OraqLquqK6m8Q9HH8eezb0qqpO9LGkP6ia7cWrYr2ONrSN18DnlxV/zBSPevLLcCP051VpHs9/Y6WWOw50m474OIa3rlzbwaO7yp/dFWos2jdsdd3X1auplWmxgbNr+n/y2No3agLR2I4m/Zl5wW0CuQLaF8GX0wbL/wTWmXpJ1117JdrOKY1risWbAhcTht7eDhthugGwE4jr6GxYSDXVltx4ED6++J3p+AYswl0VYkf0QZAvp5u2QTam/FjaG8Ib6O9eV9I+4d8CK0ycBXcbvbOrFFVFyY5Azi0+0b1E1pJ/2W0cVtvAK6kDXY9mLZe2U208n0vujeY79DGhHyXNvng17RBzh+nJV570OI+D3hckt/SPoBPrqpvje0rbZD9dbQlS66c0QfSqaofJHk17VvqAbQZX0+mPef/01VndgHOrqqTuru9uY9Yx+teP+fSxUqrHm9F+2A7kVZZeAvtOf5C141/UXfp1QSxP5uWUC6gVRWeThsjenmSQ4Frutf+d/qKeQKX0Cqp29IqH1TVdUl+SUv296MNxbiVdhq4obmY9rl0f7r4aX+PJwLvSfIvtPfgW2hjP9e47nVwKu0944Bu89hs7sOBbWhDB/4AnNa9hg+dYFeDV+3MMU+lfVndgtb7sw7tDDS3po1lfQYtCV1Ae78/eLriiWPMABOzlTkKeHbXPUmSa2nVoyXA86oN9nwx7Y37H4H1q+q2GXtDGjc2BUfRugz2GKt+JXk37fQhvxrXbiiOBfZK8i7aJIQ30ZYHeArtsRzdvQl9izY78JKqes/YnbvutaqqQSzX0HXlnQmQ5BLaTMyDaQPQdwL2qZHZvAPzbdo6TS/qkvyn07qQX0EbWLxxVZ3RX3grNRr7mbQPpYfQKjQndGO0bqmqoZ4a5zTaDMC3AC8fGXO2MW0m4NNoXcV9d7muyGm0Cs5o/A+lTTzailZR26eqfjPNcXyHNr7zgLQ16x4M/BttwsezaWP4Tl7J/WeTpbQehrfQEvvn0JLhL9NeL8+j9RRtPnaHsffLmQ/1ziE+tyuW5KO0b55jK/n/E7BkbJxG18/+Mdo/8aeHOpbgjuoG4H6Vtrjq2d22+1fV0n4jW7kkn6JNV9+zqi5I8nTaJICnrShRHuobTJLNaeNtnkN7DR4GfGxkjNBgda+fbwBvrjYj+eHAulV1fM+hrdIEse8EzK+qn6ziroOS5OO0mYsPpCXzB1bVkn6jmpxuzNhBtPjvT5vN+LZqZ+OYqRg2oo3Nu5A/DYh/e9eVN2d0PTtvAY4a/dKdZIcehqTw4I3uVp991F/N2PEeetSPTqqqRTN2wEmyYrZyR9C+NX2s2hIXwJ9VV35Hq8jMKVV1ZZLDaNO+x7YNOinrfInWBXkBQFUdkeTM8UnZaDI2xKSscw3tW+x3aQnyjT3HM2nd6+cQugVXq+rEnkOatAli/9kq7jJIVfXqJPehdT3NmtcO3PY/+cq0mbnn9RF/9zr4FK3L/bDZ9hxOVjdsZwfaTHugTQoYl6TN6JdXF5i1YnaHxJNYD1r3LfdNwIe7bstBVsMkaSiG9Ln24I3uVp97zI4zdrwdvv0DK2azUVdWT7UlFAbx4tXEusH6/z5y3aRMklaiq5rNqyGsZ+fgf8DlMlap67Ls/wWrSZuJ9cYkaa7wM25YrJhpzrFSJkmz0bAXfp0pVswkSZIGwoqZJEnqnQvMNlbMBiDJXn3HMFXG3g9j74ex98PY+zGbY5/NTMyGYTa/+I29H8beD2Pvh7H3Y8Zjz7x5M3YZquFGJkmSdCfjArOTtFHm191Ze1r2fSW3shHzp2XfAHfbauNp2/el11zP5husN237z7rrTtu+L7nyGhZstMG07T8bLZi2fV9yySUsWDB9+19+2fSd/ebSq69l87vdddr2P2+zLaZt39P9vN98w/XTtu/LrriCzTbZZNr2f9XN0/c+cPWVl3C3afx/uuHG6fscvO6aS1h/g+mLfeHm0zcm66STTrqmqu42bQcY5yGbblhf3uWRM3U4tvvy0S4wO5vdnbX58Px79x3GlDzhn/boO4QpW/ve2/QdwpTd5Zmv6zuEKbvukHf2HcKUrf/yf+07hCm78PQZPz3hGnP0Rdv3HcKUnXHWTX2HMGXv3nP6vrwmOX3adq4VsitTkiRpIKyYSZKkAYjLZWDFTJIkaUJJdktyepKlSfad4PaNknwzya+SnJLklat7TCtmkiRpEIZUMUsyH/go8GRgGXBikm9U1akjzV4PnFpVz0yyADg9yWFVNeWBi1bMJEmSbm8nYGlVndUlWp8Hxs+mK+BuSQJsAFwO3LI6B7ViJkmSetdOyTSoetFC4PyR68uAR4xrsz/wDeBC4G7A31bV8tU56KCeAUmSpBmyeZIlI5fxZzqYqF91/KJ3TwV+CdwLeCiwf5INVycoK2aSJGkQ5s2f0TFml65igdllwFYj17ekVcZGvRJ4X7XV+pcmORt4IPCzqQZlxUySJOn2TgS2TXKfJOsAL6B1W446D9gFIMk9gL8Azlqdg1oxkyRJ/cuw1jGrqluS7A0cBcwHDqqqU5K8prv9QOBdwMFJfk3r+tynqi5dneOamEmSJE2gqo4Ejhy37cCR3y8EnrImj2lXpiRJ0kBYMZMkSYMwsOUyeuEzIEmSNBBWzCRJUu/aArPDGfzfFytmkiRJA2HFTJIkDYIVMytmkiRJg7HKxCzJNkmuSHJckp8k+Ui3/bBV3O+4JFuOXP9Ekp0naPeKJG+746Hfbj/PTfLDJD/oLk9Jcs8k/9XdvnOS7Vf3OJIkaTqEzJs3Y5ehmmxX5klVtStAku8leXBVvXh1D55k/uruo9vPo4DXAbtX1TVJ1gd2rKrfA2/pmu0MLAVOXhPHlCRJWtPuUMqYZC1gPeDqJEu7bQu7StV3knw8ycGr2Mc2SU5Mcijwv93mHZJ8M8kvkjyua/fmJN/v2v77yH1/luSgJD9P8qbu/q8E3ltV1wBU1XVV9aOu/TFJNgVeAby1q+Q9Pcl/j8R0dJJ735HnQpIkrUHdrMyZugzVZBOzHZMcB5wKLKuq80Zu2wc4oKp2o53MczK2AV5fVXt21+9WVc8E/gb4cLft41X1JOARwJOTbN1t3xLYG3g08MZu21bA+Ss6WFVdDhwMvLuqdga+DTw2ybpJ7gPcXFXnjr9fkr2SLEmy5EpuneRDkyRJmprJJmYnVdXOVfUA4KIkLxi5bVvaGdgBThjZfj1wl5Hrd+m2Afymqq4aue1EgKo6B9io2/acJD8EjgXuS0u+AE7rKmI3wG3Z0vnA1kxSVS0Hvk5LBF8JHLSCdouralFVLdqINdLrKkmSJuQYM5jarMwrgAUj15cCi7rfHz6y/ZfAEwCS3AXYHji9u218+WnHrt3WwFjC9i7gqcATgbNpZ20HqAli+hSwb5INuv2sl+Sx49rcxJ+PqfsksCewO3D4BPuUJEmaUZMd/D/WlRngauBF/Kkb8f3A55LsCVxIS4AAPgh8IslLgHVp3Yh/TLLxBPu/LskRwL2Af+i2fRX4MfBb4JqVBVdVP0lyAHBkkuri/I9xzY4G9kvyDOD5VXVhkuuBY6vq5sk8CZIkSdNplYlZ1724yQQ33b/7eRHw+KqqJG8Fbuzudznw7BXsb9eR6wfTxn+Nb/cP47d1Ru97/5Hfvwx8eUXtq+pE4DHjblvOnyYgSJKkPmW4g/JnyppY+f8ewBeSjFXTXrCK9r1Lsjat+/Kcqjqj73gkSZJgDSRmVXUh8Lg1EMuM6boud+87DkmS1HgS82a40xIkSZLuZDyJuSRJGoQhL2MxU3wGJEmSBsKKmSRJ6l+GfaqkmWLFTJIkaSCsmEmSpEFwjJkVM0mSpMEwMZMkSRoIuzIlSdIgOPjfipkkSdJgWDGTJEm985RMjRUzSZKkgbBiJkmSBiDgchlWzCRJkobCipkkSRqExDFmVswkSZIGwoqZJEnqXzwlE5iYTdrdttqYJ/zTHn2HMSU/eNPhfYcwZXd/5CZ9hzBlD9lw075DmLK69da+Q5iyc5ae0XcIU7bxdZf2HcKU3XfBtX2HMGX/+6Gf9x3C1O35+L4j0BpmYiZJkgYgrmOGY8wkSZIGw8RMkiRpIOzKlCRJ/QsuMIsVM0mSpMGwYiZJkgbBwf9WzCRJkgbDipkkSepdCIn1Ip8BSZKkgbBiJkmS+hfAMWZWzCRJkobCipkkSRoET2JuxUySJGkwTMwkSZIGwq5MSZI0CC4wa8VMkiRpMKyYSZKk/iXgArNWzCRJkobCipkkSRoEx5jNsopZkm2SXJHkuCRLkryo+/3okTaPT1JJdu6uH5TkoiSfGLevf0ny4yTfT7LNjD4QSZKkCcyqxKxzUlXtDDwJeA+t6rdeknt1t78I+MlI+7cDLxzdQZIHAk+qqscA7wDeN80xS5KkVZk3b+Yuk5BktySnJ1maZN8VtNk5yS+TnJLkB6v9FKzuDvpSVVcBvwc2A74AvCDJ2sC2wKkj7S6Y4O47A0d0t/8Q2GG645UkSbNHkvnAR4GnAQ8CXpjkQePabAwcAPx1VT0YeN7qHnfWJmZJFgILgEuAI4Hdgd2AoyZx902BK0auz1/BMfbqukyXXHrN9asZsSRJWpEkM3qZhJ2ApVV1VlXdBHwe2GNcmxcBX62q8wCq6uLVfR5mY2K2Y5JjgUOBvYDlwI3AOcDbgM9NYh+XAxuPXL91okZVtbiqFlXVos03WG91YpYkScOy+VjxpbvsNe72hcD5I9eXddtGPQDYpBvvflKSl61uULNxVuZJVbXr2JUkb+9+/Tjw3Ko6fxKZ8A+A/YD9kjwa+NV0BCpJku6AmT2J+aVVtWglt0+UTNS462sBOwK7AOsBP0ny06o6Y6pBzcbEbEJVdSJw4vjtSf6D1j98zyTHAHtU1WlJjk/yY+Am4O9mNlpJkjRwy4CtRq5vCVw4QZtLq+pa4NokY+PW7xyJWVWdA+w6btvOE7R71cjvb6N1cY5v8y7gXWs8SEmSNBecCGyb5D7ABcALaGPKRh0O7J9kLWAd4BHAh1fnoLMqMZMkSXPXkBaYrapbkuxNm1Q4Hzioqk5J8pru9gO7HrjvACfTxrx/oqp+szrHNTGTJEmaQFUdSVv5YXTbgeOufxD44Jo6pomZJEnqnycxB2bnchmSJElzkhUzSZI0DAMaY9YXK2aSJEkDYcVMkiQNQhxjZsVMkiRpKKyYSZKk/gXHmGHFTJIkaTCsmEmSpAEImdmTmA+Sz4AkSdJAmJhJkiQNhF2ZkiRpGOLgfytmkiRJA2HFTJIk9S+Ag/+tmEmSJA2FFTNJkjQAcYwZVswkSZIGw4rZJGXddVn73tv0HcaU3P2Rm/QdwpRd/NMr+g5hymr+7P33mrfOOn2HMGWbXXZG3yFM2c132bDvEKYsqb5DmLKq2Rv7XOMCs1bMJEmSBmP2fqWXJElzR4BYL/IZkCRJGggTM0mSpIGwK1OSJA1AYJ7LZVgxkyRJGggrZpIkqXcB4uB/K2aSJElDYcVMkiT1LzjGDCtmkiRJg2HFTJIkDUBcYBYrZpIkSYNhxUySJA1DHGNmxUySJGkgrJhJkqRhmGe9yGdAkiRpIEzMJEmSBsKuTEmS1L+4XAZYMZMkSRoMK2aSJGkYPCXTsCtmSbZJckWS45IsSfKi7vejR9o8Pkkl2TnJlt3tP0ry4ySLVrLvg5P8omv/pZl5RJIkSSs2GypmJ1XVrkk2BE4GlgFrJblXVV0IvAj4Sdf2auD5VXVxkgcBHwcet5J9v6Gqjp/O4CVJ0iQ5xmzYFbNRVXUV8HtgM+ALwAuSrA1sC5zatbmyqi7u7nITcMsqdvuhrrr2txPdmGSvrlK35JIrr1kjj0OSJGlFZkPFDIAkC4EFwAXAkbRq2JnAUcADxrWdD+wPvHslu/x/VXVpkk2B7yU5sarOGm1QVYuBxQA7bnvvWlOPRZIkTcBTMs2KitmOSY4FDgX2ApYDNwLnAG8DPjfBfT4OHFFVx6xop1V1affzcuBoYIc1G7YkSdIdMxsqZidV1a5jV5K8vfv148Bzq+r8jGTYST4IXFRVH1nZTpNsXFV/TLIO8BjgkDUfuiRJmpTEUzIxOxKzCVXVicCJo9u6WZhvAn6c5Djgkqp63gp28YUkGwBrA5+pqlOmMVxJkqRVGnRiVlXnALuO27bzBO1eNXJ17Unu+6mrE5skSdKaNujEbE3ols04YNzmxVX12T7ikSRJK+Dg/7mfmFXVqcDOfcchSZK0KnM+MZMkSbOEC8zOiuUyJEmS7hSsmEmSpP65XAZgxUySJGkwrJhJkqRhcFamFTNJkqShMDGTJEnDkHkzd5lMOMluSU5PsjTJvitp9/AktyZ57uo+BSZmkiRJ4ySZD3wUeBrwIOCF3aL1E7V7P3DUmjiuiZkkSRqAtDFmM3VZtZ2ApVV1VlXdBHwe2GOCdm8AvgJcvCaeBRMzSZKk21sInD9yfVm37TZJFgJ/Axy4pg7qrExJknRntHmSJSPXF1fV4pHrE5XVatz1/YB9qurWrKEZpSZmkiSpf2GmF5i9tKoWreT2ZcBWI9e3BC4c12YR8PkuKdsc2D3JLVX19akGZWImSZJ0eycC2ya5D3AB8ALgRaMNquo+Y78nORj41uokZWBiJkmSBqCAGtACs1V1S5K9abMt5wMHVdUpSV7T3b7GxpWNMjGTJEmaQFUdCRw5btuECVlVvWJNHNPETJIkDUAmvfDrXGZiNknZaAF3eebr+g5jSh6y4aZ9hzBlNX/2vkSP3fmtfYcwZY874SN9hzBl375h175DmLJFG5zbdwhTts2tszf21/7j4/sOQbrN7P3UkyRJc4sVMxeYlSRJGgorZpIkaRCGNCuzL1bMJEmSBsLETJIkaSDsypQkSf2Ly2WAFTNJkqTBsGImSZKGwcH/VswkSZKGwoqZJEkahnnWi3wGJEmSBsKKmSRJGoC4wCxWzCRJkgbDipkkSepfcB0zrJhJkiQNhhUzSZI0CGXFzIqZJEnSUJiYSZIkDYRdmZIkaQDiKZmYI4lZknnAx4CHAMuB86rqxUleBrwauAW4GNi7qv7QbX89cCNwIfDyqrqxn+glSZKaOZGYAbsBa1XVYwCSbJrkscCewK5VdX2S3YHPAE8GjgcOq6pbk3wAeAnwyZ5ilyRJOPgf5s4Ys2uAhyTZDqCqLgdeDrynqq7vth0JbJBkYVWdVVW3dve9iVZRkyRJ6tWcqJhV1Q+TfBw4IMk2wH8DWwLnjWt6LrAQuACgS+R2Bx490X6T7AXsBbD11ltPS+ySJKnjGLM5UzGjqg6qqicCOwCvANYFxmdTW/OnpGxL4GDgeVV1wwr2ubiqFlXVogULFkxX6JIkScAcScyS3CvJht3Vq2ldm/8O7Jtkva7NbsD1VXVBks2BrwCvrarf9RK0JEn6k6SdkmmmLgM1J7oyad2WH06ynPaYvllVP0hyKHBMkluAS2mD/AHeQevS/FBa2fTQqnLwvyRJ6tWcSMyq6mfAYybY/ingUxNs3xvYewZCkyRJk1BAOcZsbnRlSpIkzQVzomImSZLmgAGP/ZopPgOSJEkDYWImSZI0EHZlSpKkQSgc/G/FTJIkaSCsmEmSpAGIJzHHipkkSdJgWDGTJEnDYMXMipkkSdJQWDGTJEn9i6dkAitmkiRJg2HFTJIk9a6clQlYMZMkSRoMEzNJkqSBsCtTkiQNg4P/rZhJkiQNhRUzSZI0CA7+t2ImSZI0GFbMJmn5ZRdx3SHv7DuMKalbb+07hCmbt846fYcwZY874SN9hzBlP3rEG/oOYcoeddrhfYcwZRtduazvEKbsiGt36TuEKfvxT//YdwhT9pLHb9J3CGtQKBxjZsVMkiRpIKyYSZKkQXCMmRUzSZKkwbBiJkmS+hdcxwwrZpIkSYNhxUySJA1AKOtFPgOSJEkTSbJbktOTLE2y7wS3vzjJyd3l/5LssLrHNDGTJEkaJ8l84KPA04AHAS9M8qBxzc4GnlBV2wPvAhav7nHtypQkSb0roIY1+H8nYGlVnQWQ5PPAHsCpYw2q6v9G2v8U2HJ1D2rFTJIk6fYWAuePXF/WbVuRvwO+vboHtWImSZIGYYYXmN08yZKR64urarQrcqLyXU20oyRPpCVmj13doEzMJEnSndGlVbVoJbcvA7Yaub4lcOH4Rkm2Bz4BPK2qLlvdoEzMJEnSIAzsJOYnAtsmuQ9wAfAC4EWjDZJsDXwVeGlVnbEmDmpiJkmSNE5V3ZJkb+AoYD5wUFWdkuQ13e0HAv8KbAYckDZx4ZZVVOFWycRMkiQNQAZ3EvOqOhI4cty2A0d+fxXwqjV5zGE9A5IkSXdiVswkSdIgDGwds15YMZMkSRoIEzNJkqSBmBOJWZJtklSSPUa2Le1+vizJj5P8IMmXktyjv0glSdJEirZcxkxdhmpOJGad3wL/nPypgzrJY4E9gV2r6gnAp4DP9BSfJEnSSs2lxOwC4Oe0E4yOeTnwnqq6Hm6b9rpBkoVJ9knydoAkhyR59oxHLEmSmrTlMmbqMlTDjWxq3gPsO1I12xI4b1ybc2knIf0A8Kgk+wHXVtVXx+8syV5JliRZcunV105j2JIkSXNsuYyqWpbkJOBZ3aYLgK1p3ZxjtgYuqKpK8mHameC3XsH+FgOLAR52n4UTnrhUkiStGUMe+zVT5lrFDOC9wD7d74fSKmjrASTZDbi+qi5Iclfg34HXAP/TS6SSJEkj5lTFDG6rmi0BdquqHyQ5FDgmyS3ApcBLuqYfAT5UVV9Osm2S11XVAX3FLUnSnd2Qx37NlDmRmFXVOcCuI9f3Hvn9U7TZmOPvs+fI7/uMv12SJGmmzYnETJIkzX6OMZubY8wkSZJmJStmkiSpd0UcY4YVM0mSpMEwMZMkSRoIuzIlSdIgOPjfipkkSdJgWDGTJEmDULFiZsVMkiRpIKyYSZKkQaiyYmbFTJIkaSCsmEmSpAEIZb3IZ0CSJGkorJhJkqTeFa5jBlbMJEmSBsPETJIkaSDsypQkSYNgV6YVM0mSpMGwYiZJkgbBipmJ2aTN22wL1n/5v/YdxpScs/SMvkOYss0um72xf/uGXfsOYcoeddrhfYcwZb/ebo++Q5iy+ukpfYcwZVtsfEPfIUzZHk+5a98hSLcxMZMkSQMQK2Y4xkySJGkwrJhJkqRB8CTmVswkSZIGw4qZJEnqnadkaqyYSZIkDYQVM0mSNAhWzKyYSZIkDYaJmSRJ0kDYlSlJkgbBrkwrZpIkSYNhxUySJA1AXGAWK2aSJEmDYcVMkiT1roDljjGzYiZJkjQUVswkSdIgOCvTipkkSdJgWDGTJEn9K5yViRUzSZKkwZj1iVmSbZJUkj1Gti1N8ookbxvZtnOST3S/vznJD5P8OMmnk6zdR+ySJOlPiszYZahmfWLW+S3wz0km+0zvX1WPr6rHdNefMk1xSZIkTdpcScwuAH4O7LGqhgBVdRNAl8jNA5ZOX2iSJEmTM5cG/78H+HKSw0e2/V2SXbvfNwaWjN2Q5K3AK4AzgfMn2mGSvYC9ALbeeus1H7EkSep4SiaYOxUzqmoZcBLwrJHNn6yqnatqZ+BN49q/G3gAcDYtQZton4uralFVLVqwYME0RC1JkoYqyW5JTu/Gru87we1J8j/d7ScnedjqHnMuVcwA3gt8eVWNktylqm6oqkpyJXDd9IcmSZJWpBjWArNJ5gMfBZ4MLANOTPKNqjp1pNnTgG27yyOAj3U/p2zOVMzgtqrZklU2hP9KclySHwL3BA6b3sgkSdIssxOwtKrO6samf57bj2XfA/h0NT8FNk6yxeocdNZXzKrqHGDXket7r6DdccBx3e+vn4HQJEnSHTDDY8w2TzJazFlcVYtHri/kz8egL+P21bCJ2iwELppqULM+MZMkSZqCS6tq0UpunyhLrCm0uUNMzCRJ0iAs7zuAP7cM2Grk+pbAhVNoc4fMqTFmkiRJa8iJwLZJ7pNkHeAFwDfGtfkG8LJuduYjgSurasrdmGDFTJIkDcSQ1jGrqluS7A0cBcwHDqqqU5K8prv9QOBIYHfaQvXXAa9c3eOamEmSJE2gqo6kJV+j2w4c+b2ANTqh0K5MSZKkgbBiJkmSeldkUAvM9sWKmSRJ0kBYMZMkSYMwpMH/fbFiJkmSNBBWzCRJ0iA4xsyKmSRJ0mBYMZMkSf0rWL5aZ5mcG6yYSZIkDYQVM0mS1LvCMWZgxUySJGkwrJhJkqRBcB0zK2aSJEmDYWImSZI0EHZlTtLNN1zPhaf/qu8wpmTj6y7tO4Qpu/kuG/YdwpQt2uDcvkOYso2uXNZ3CFNWPz2l7xCmLI98cN8hTNn8X/6i7xCmbNmla/cdgjrlchlWzCRJkobCipkkSRqAsNzlMqyYSZIkDYUVM0mS1LvC5TLAipkkSdJgWDGTJEmD4KxMK2aSJEmDYcVMkiQNgicxt2ImSZI0GCZmkiRJA2FXpiRJ6l/Bcgf/WzGTJEkaCitmkiSpdy4w21gxkyRJGggrZpIkaRBcYNaKmSRJ0mBYMZMkSYOw3AVmrZhJkiQNhRUzSZI0CI4xm+OJWZLtgfcD6wHrAF8GDgP2B+5Oe/yLq+qQ3oKUJEnqzNnELMmGwGeAv6mq3yUJ8JRu24er6sgk6wHfTvK7qjq+z3glSbozK+I6ZsztMWbPAL5ZVb8DqKoCfgPctaqO7LZdD7wXeHlvUUqSJHXmcmK2FXD+uG1bAueN23YusHCiHSTZK8mSJEsuu+KKaQhRkiTpT+ZyYnY+sPW4bRdMsG3rbvvtVNXiqlpUVYs222STaQhRkiQBt53EfKYuQzWXE7NvAc9Icr+RbdsBNyTZDSDJXYB9gUN7iE+SJOnPzNnB/1V1VZKXAh/tErCxWZkvBj6S5J9pj/+TVfXDHkOVJEm4XAbM4cQMoKp+Bew2wU3PnelYJEmSVmVOJ2aSJGn2KE/JNKfHmEmSJM0qVswkSVLvimHPlpwpVswkSZIGwoqZJEkaBGdlWjGTJEkaDBMzSZKkgbArU5IkDYJdmVbMJEmSBsOKmSRJ6l0VLC8XmLViJkmSNBBWzCRJ0iA4xsyKmSRJ0mCYmEmSpEGomrnL6kiyaZKjk5zZ/dxkgjZbJTk2yWlJTknyxsns28RMkiTpjtkX+F5VbQt8r7s+3i3AW6pqO+CRwOuTPGhVOzYxkyRJg7C8Zu6ymvYADul+PwR41vgGVXVRVf28+/1q4DRg4ap27OB/SZJ0Z7R5kiUj1xdX1eJJ3vceVXURtAQsyd1X1jjJNsBfASesascmZpIkqXcF1MyuY3ZpVS1a0Y1JjgHuOcFNb70jB0myAfAV4E1VddWq2puYSZIkjVNVu67otiR/SLJFVy3bArh4Be3WpiVlh1XVVydzXBOzSbrq5vU4+qLt+w5jSu674Nq+Q5iyZPYuarPNref2HcKUHXHtLn2HMGVbbHxD3yFM2fxf/qLvEKbs6of+Vd8hTNmiU4/vO4TVsKDvAO6svgG8HHhf9/Pw8Q2SBPgkcFpVfWiyO3bwvyRJ6t8MLpWxBhayfR/w5CRnAk/urpPkXkmO7No8Bngp8KQkv+wuu69qx1bMJEmS7oCqugy4XddCVV0I7N79fjxwhwfNmZhJkqRBWAPLWMx6dmVKkiQNhBUzSZLUu7ZcRt9R9M+KmSRJ0kBYMZMkSYNgxcyKmSRJ0mBYMZMkSYPgrEwrZpIkSYNhYiZJkjQQdmVKkqT+rZlTJc16VswkSZIGwoqZJEnqXQHLl/cdRf+smEmSJA2EFTNJkjQIjjGzYiZJkjQYVswkSdIgWDGzYiZJkjQYc75iluThwPuB+cCtwD7A6cB3gJuA9YF/rqrv9RakJEl3clWekgnmeGKWZCPgEGD3qjonyTbAkcCjgMdX1S1J7gt8AXh4f5FKkiTN/a7MZwBfr6pzALqfhwPPqKpbujYbAif3Ep0kSbpNVc3YZajmemK2JXDeuG3nAguTLExyPPBd4GsT3TnJXkmWJFly9ZWXTHOokiTpzm6uJ2YXAFuP27Y1cEFVXVBVjwV2Avaf6M5VtbiqFlXVortttGCaQ5UkSXd2cz0x+xbwrCT3BkiyNfAs4JiRNlcBV898aJIkaVTVzF2Gak4P/q+qPyZ5JXBwknnAcuCVwJZJvkSbpbk28Kb+opQkSWrmdGIGUFUnAE+c4KbHz3QskiRpxTyJ+dzvypQkSZo15nzFTJIkDd/Qx37NFCtmkiRJA2HFTJIkDYKnZLJiJkmSNBhWzCRJ0iA4xsyKmSRJ0mBYMZMkSYNQDjKzYiZJkjQUJmaSJEkDYVemJEnqXZXLZYAVM0mSpMGwYiZJkgbB5TKsmEmSJA2GFTNJkjQIyx1kZsVMkiRpKKyYSZKk3hWOMQMrZpIkSYNhxUySJPWvrJiBidmk3XBjccZZN/UdxpT874d+3ncIU1az+L/0tf/4+L5DmLIf//SPfYcwZXs85a59hzBlyy5du+8QpmzRqcf3HcKULXvQY/sOYcoeesvpfYegNcyuTEmSpIGwYiZJkgagWD6Le0nWFCtmkiRJA2HFTJIkDUIt7zuC/lkxkyRJGggrZpIkqXdtgVnHmFkxkyRJGggrZpIkqX8Fyx1jZsVMkiRpKEzMJEnSIFTVjF1WR5JNkxyd5Mzu5yYraTs/yS+SfGsy+zYxkyRJumP2Bb5XVdsC3+uur8gbgdMmu2MTM0mS1LsCltfMXVbTHsAh3e+HAM+aqFGSLYGnA5+Y7I5NzCRJku6Ye1TVRQDdz7uvoN1+wD8Bk57W4KxMSZJ0Z7R5kiUj1xdX1eKxK0mOAe45wf3eOpmdJ3kGcHFVnZRk58kGZWImSZL6V1BroI/xDri0qhatMJyqXVd0W5I/JNmiqi5KsgVw8QTNHgP8dZLdgbsAGyb5TFW9ZGVB2ZUpSZJ0x3wDeHn3+8uBw8c3qKp/rqotq2ob4AXA91eVlIGJmSRJGoiqmbuspvcBT05yJvDk7jpJ7pXkyNXZsV2ZkiRJd0BVXQbsMsH2C4HdJ9h+HHDcZPZtYiZJkgZh+cyOMRukGenKTLJNkiuSHJvkp0m+keSBK2n/iiQbrmKfOyfZfuT6YWsyZkmSpJk2kxWzk8ZmOCR5FPDFJA+vqhsnaPsK4BjgqpXsb2dgKXAyQFW9eI1GK0mSZsyaOFXSXNDL4P+q+gnwa2BRku8n+UGS7yVZkORJwEOBLyX5CECS93ZtfpLkGUk2pSVvb01yXHceqqVd252TfCfJ55OclmSPJF9K8uskL+3abJXkiO7YRyRZ0MfzIEmSNKrPMWbnA/cHdq2q5UleC7y2qt6Z5JfAS6pqWZLdgE2q6glJ1gd+QkvcDgaWVtVnAJKM7nsz2uC7nYCvAfejrSHyPeBQ4IPAu6rqp0n2APYB/t/4AJPsBewFsOFmW63ZRy9Jkv5MTXp9/Lmrz8RsK+DbwOHdeLKNgBMnaPeXwBOSHNddX5eWeK3MyV2ytww4o6quA65Lst7IPt/XJXNr0bpEb6dbAXgxwBbb7Gh9VZIkTateErMkO9GSoxcAn62qzyV5HfCwrslNI7GdAny3qt7Y3XedqropyWib8WoFv485BXhvVf1ibJ+r9YAkSZLWgJlMzHZMciytS/FS4IW0k37un+SFwAUjbb8KfDLJ/1XV25M8qquYFbAMeClwNLBfdy6q59/BWN4CfDTJBt31g4DPTPFxSZKkNWC5g/9nJjGrqnOATSa46RTgwRO0PxA4cOT62ydocyLtPFRj7t9tP45uEbeqWkabvTl2nwd2P88H/voOPgxJkqRp5QKzkiRpEFwuw3NlSpIkDYYVM0mS1LsqT8kEVswkSZIGw4qZJEkaBIeYWTGTJEkaDCtmkiRpEMoxZlbMJEmShsKKmSRJ6l1VufI/VswkSZIGw8RMkiRpIOzKlCRJg+DgfytmkiRJg2HFTJIkDYIVMytmkiRJg2HFTJIk9a/AgpkVM0mSpMGwYiZJknpXOMYMrJhJkiQNhhWzSVq4eXj3nuv2HcbU7Pn4viPQLPOSx2/SdwiadRb0HcCUPfSW0/sOQQAU5SmZrJhJkiQNhYmZJEnSQNiVKUmS+lew3MH/VswkSZKGwoqZJEkaBAf/WzGTJEkaDCtmkiSpdy4w21gxkyRJGggrZpIkqX9lxQysmEmSJA2GFTNJkjQAxXJnZVoxkyRJGgorZpIkaRAcY2bFTJIkaTBMzCRJkgbCrkxJktS7wlMygRUzSZKkwbBiJkmS+lew3MH/VswkSZKGYk4mZkkWJzlu5PrDk3w/yQ+6nw/vtm+T5JjeApUkSbep5TVjl6Gac12ZSdYBdgAuTrI1cCVwCLB7VZ2TZBvgyCSP7jFMSZKk25lziRnwdOAbwOnAi4Dzga9X1TkAXXJ2eNfux30FKUmSRpWzMpmbidkLgf8H/AH4LnAkcN64NucCW61qR0n2Avbqrl6T5PQ1GOeozYFLp2nf083Y+2Hs/TD2fhh7P/6i7wDujOZUYpZkI+AxwOJu0zbAXYCNxjXdGvjtqvZXVYtH9jVtkiypqkXTfZzpYOz9MPZ+GHs/jL0fSZbM5PGqoJYvn8lDDtJcG/z/XOC9VbVbVe0G7AksBJ6V5N4A3bizPYBv9RemJEnS7c2pihnwYv7U9QhwPPBR4OXAwUnWpVXRnlFVlyfZcOZDlCRJE3EdszlWMauqJ1XV0pHrN1bVA6vqhKp6IvBY2rizp3a3n1NVu/YU7qhp7y6dRsbeD2Pvh7H3w9j7MZtjn1ZJNk1ydJIzu5+brKDdxkm+nOS3SU5L8qhV7tsZEJIkqW+b3nP7evJLvjljx/vif21z0lTH/yX5AHB5Vb0vyb7AJlW1zwTtDgF+VFWf6JbzWr+q/riyfc+1rkxJkjRLzaJi0R7Azt3vhwDHAX+WmHXDpR4PvAKgqm4CblrVjudUV6YkSdIMuEdVXQTQ/bz7BG3uC1wCfCrJL5J8IsldV7VjK2aSJKl/NeOnStp83JIgi7tlsgDoTtl4zwnu99ZJ7n8t4GHAG6rqhCT/DewLvH1Vd5IkSbqzuXRlY8xWNjkwyR+SbFFVFyXZArh4gmbLgGVVdUJ3/cu0xGyl7MqUJEm9K2bVScy/QVuKi+7n4bd7PFW/B85PMnYGhV2AU1e1YxMzSZKkO+Z9wJOTnAk8ubtOknslOXKk3RuAw5KcDDwUeM+qdmxXpiRJGoTlNTtOyVRVl9EqYOO3XwjsPnL9l8AdWpLDipkkSdJAWDGTJEn9K2Z6VuYgWTGTJEkaCBMzSZKkgbArU5Ik9a6Y8QVmB8mKmSRJ0kBYMZMkSYMwi05iPm2smEmSJA2EFTNJktS/guXLZ8cCs9PJipkkSdJAWDGTJEmD4KxMK2aSJEmDYcVMkiT1rihqlpzEfDpZMZMkSRoIK2aSJKl/nsQcsGImSZI0GCZmkiRJA2FXpiRJGgS7Mq2YSZIkDYYVM0mSNADFcpfLsGImSZI0FFbMJElS78rlMgArZpIkSYNhxUySJA1CLXeMmRUzSZKkgbBiJkmS+ucYM8CKmSRJ0mCYmEmSJA2EXZmSJGkAinKBWStmkiRJQ2HFTJIk9a6A5Q7+t2ImSZI0FFbMJElS/8oFZsGKmSRJ0mBYMZMkSQNQLjCLFTNJkqTBsGImSZIGwXXMrJhJkiQNhhUzSZLUP09iDlgxkyRJGgwTM0mSpIGwK1OSJPWuKBeYxYqZJEnSYKTKgXaSJKlfSb4DbD6Dh7y0qnabweNNiomZJEnSQNiVKUmSNBAmZpIkSQNhYiZJkjQQJmaSJEkDYWImSZI0EP8/jl3COMMFEHQAAAAASUVORK5CYII=",
      "text/plain": [
       "<Figure size 720x720 with 2 Axes>"
=======
      "text/plain": [
       "Text(0.5, 1.0, 'Heatmap of correlations')"
      ]
     },
     "execution_count": 1191,
     "metadata": {},
     "output_type": "execute_result"
    },
    {
     "data": {
      "image/png": "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",
      "text/plain": [
       "<Figure size 640x480 with 2 Axes>"
>>>>>>> 8a16e3e63eadba7695ab2ecb6bf21c4e755a3817
      ]
     },
     "metadata": {},
     "output_type": "display_data"
    }
   ],
   "source": [
    "\"\"\"\n",
    "CELL N°5 : CORRELATION MATRIX\n",
    "   \n",
    "@pre:  Training dataframe  \n",
    "@post: The correlation matrix between the features (target incl.) and its plot    \n",
    "\"\"\"\n",
    "import matplotlib.pyplot as plt\n",
<<<<<<< HEAD
=======
    "import seaborn as sb\n",
>>>>>>> 8a16e3e63eadba7695ab2ecb6bf21c4e755a3817
    "\n",
    "# Compute and plot the correlation matrix\n",
    "# Display the correlation in cells\n",
    "\n",
    "\n",
    "#############################\n",
    "# Start : \n",
    "#############################\n",
    "\n",
<<<<<<< HEAD
    "fig = plt.figure(figsize=(10, 10))\n",
    "plt.matshow(data_train.corr(), fignum=fig.number, cmap='coolwarm')\n",
    "\n",
    "plt.xticks(range(data_train.shape[1]), data_train.columns, fontsize=9, rotation=20)\n",
    "plt.yticks(range(data_train.shape[1]), data_train.columns, fontsize=9)\n",
    "cb = plt.colorbar()\n",
    "plt.title('Correlation Matrix', fontsize=14);\n",
=======
    "corr = data_train.corr()\n",
    "sb.heatmap(corr)\n",
    "plt.title('Heatmap of correlations')\n",
>>>>>>> 8a16e3e63eadba7695ab2ecb6bf21c4e755a3817
    "\n",
    "##########################\n",
    "# End : \n",
    "#########################"
   ]
  },
  {
   "cell_type": "markdown",
<<<<<<< HEAD
   "id": "89302b09",
=======
   "id": "ee4996f8",
>>>>>>> 8a16e3e63eadba7695ab2ecb6bf21c4e755a3817
   "metadata": {},
   "source": [
    "<font size=4 color=#009999> 2.4. Features Selection </font> <br>\n",
    "\n",
    "<b>Establish</b> a feature selection strategy and store the feature names in a list. \n",
    "\n",
    "N.B. Selection of the $n$ first correlated features and/or setting of a correlation threshold or any other rule. <br>Furthermore, investigate on <i>redundant</i> features which can be removed as well.</span> "
   ]
  },
  {
   "cell_type": "markdown",
<<<<<<< HEAD
   "id": "4867f299",
=======
   "id": "80a598af",
>>>>>>> 8a16e3e63eadba7695ab2ecb6bf21c4e755a3817
   "metadata": {},
   "source": [
    "<div class=\"alert alert-warning\">\n",
    "    <b>[Question 2.4]</b> Explain your selection strategy. \n",
    "    Is it appropriate to use the correlation matrix to select (or not) cyclical features?\n",
    "</div> "
   ]
  },
  {
   "cell_type": "code",
<<<<<<< HEAD
   "execution_count": null,
   "id": "df9985d1",
=======
   "execution_count": 1192,
   "id": "f9cc42e3",
>>>>>>> 8a16e3e63eadba7695ab2ecb6bf21c4e755a3817
   "metadata": {},
   "outputs": [
    {
     "name": "stdout",
     "output_type": "stream",
     "text": [
      " \n",
      "auto selected features: \n",
<<<<<<< HEAD
      "PM2_5           0.751328\n",
      "PM10            0.739827\n",
      "NOx             0.492546\n",
      "BigUrbanCity    0.406795\n",
      "CO              0.241522\n",
      "dtype: float64\n"
=======
      "['CO', 'BigUrbanCity', 'NOx', 'PM10', 'PM2_5']\n"
>>>>>>> 8a16e3e63eadba7695ab2ecb6bf21c4e755a3817
     ]
    }
   ],
   "source": [
    "\"\"\"\n",
    "CELL N°6 : Features selection \n",
    "   \n",
    "@pre:  data_train's correlation matrix: correl_mat (see CELL  N°5)\n",
    "@post: a list 'feature_names' with the names of the selected features, display of each explanatory feature vs. binary target\n",
    "\"\"\"\n",
    "#############################\n",
    "# Start : Only for the TA's\n",
    "#############################\n",
    "\n",
    "# @toDo (implement your feature selection rule)\n",
    "\n",
    "\n",
    "# Ici, nous avons retiré les features de temporalité car elles sont peu corrélées; normal elles sont sous la forme d'un sinus/cosinus.\n",
    "# Cependant, une selection plus \"approfondie\" aurait pu capturer des relations qui ne sont pas uniquement linéaires.\n",
    "\n",
    "def feature_selection(df,n):\n",
<<<<<<< HEAD
    "    cm = abs(df.corrwith(df[\"AQI\"]))\n",
    "    cm = cm.drop(\"AQI\")\n",
=======
    "    cm = abs(df.corrwith(df[\"target_Binary\"]))\n",
    "    cm = cm.drop([\"target_Binary\"])\n",
>>>>>>> 8a16e3e63eadba7695ab2ecb6bf21c4e755a3817
    "    out = cm.sort_values()\n",
    "    return out[-n:]\n",
    "\n",
    "feature_names = feature_selection(data_train,5)\n",
<<<<<<< HEAD
    "\n",
    "print(' ')\n",
    "print('auto selected features: ' + '\\n' +str(feature_names[::-1]))\n",
=======
    "feature_names = feature_names.index.to_list()\n",
    "\n",
    "print(' ')\n",
    "print('auto selected features: ' + '\\n' +str(feature_names))\n",
>>>>>>> 8a16e3e63eadba7695ab2ecb6bf21c4e755a3817
    "\n",
    "##########################\n",
    "# End : Only for the TA's\n",
    "########################"
   ]
  },
  {
   "cell_type": "markdown",
<<<<<<< HEAD
   "id": "5d28c9d3",
=======
   "id": "6c3bdd1f",
>>>>>>> 8a16e3e63eadba7695ab2ecb6bf21c4e755a3817
   "metadata": {},
   "source": [
    "<font size=4 color=#009999> <br> 2.5 Data scaling and normalization</font> <br> \n",
    "\n",
    "__Split__ your _training_ and _test_ sets into their respective features set  (X)  and a binary target variable (y). __Standardize__ or __Normalize__ the features sets. \n",
    "\n",
    "\n",
    "__Remark 1.__ The scaler object, used to scale the <i>training set</i>, should also be the one used on the <i>test set</i>! Again, do no reinvent the wheel!  \n"
   ]
  },
  {
   "cell_type": "markdown",
<<<<<<< HEAD
   "id": "9efea75a",
=======
   "id": "91825fa4",
>>>>>>> 8a16e3e63eadba7695ab2ecb6bf21c4e755a3817
   "metadata": {},
   "source": [
    "<div class=\"alert alert-warning\">\n",
    "    <b>[Question 2.5]</b>  Why do we scale data? Justify properly, whether it is necessary or not for your feature set (X) and which scaler did you use.\n",
    "</div> "
   ]
  },
  {
   "cell_type": "code",
<<<<<<< HEAD
   "execution_count": null,
   "id": "c2749c71",
=======
   "execution_count": 1193,
   "id": "59c35814",
>>>>>>> 8a16e3e63eadba7695ab2ecb6bf21c4e755a3817
   "metadata": {},
   "outputs": [
    {
     "ename": "KeyError",
     "evalue": "0.2415215324818803",
     "output_type": "error",
     "traceback": [
      "\u001b[0;31m---------------------------------------------------------------------------\u001b[0m\n",
      "\u001b[0;31mKeyError\u001b[0m                                  Traceback (most recent call last)\n",
      "\u001b[0;32m~/opt/anaconda3/lib/python3.9/site-packages/pandas/core/indexes/base.py\u001b[0m in \u001b[0;36mget_loc\u001b[0;34m(self, key, method, tolerance)\u001b[0m\n",
      "\u001b[1;32m   3360\u001b[0m             \u001b[0;32mtry\u001b[0m\u001b[0;34m:\u001b[0m\u001b[0;34m\u001b[0m\u001b[0;34m\u001b[0m\u001b[0m\n",
      "\u001b[0;32m-> 3361\u001b[0;31m                 \u001b[0;32mreturn\u001b[0m \u001b[0mself\u001b[0m\u001b[0;34m.\u001b[0m\u001b[0m_engine\u001b[0m\u001b[0;34m.\u001b[0m\u001b[0mget_loc\u001b[0m\u001b[0;34m(\u001b[0m\u001b[0mcasted_key\u001b[0m\u001b[0;34m)\u001b[0m\u001b[0;34m\u001b[0m\u001b[0;34m\u001b[0m\u001b[0m\n",
      "\u001b[0m\u001b[1;32m   3362\u001b[0m             \u001b[0;32mexcept\u001b[0m \u001b[0mKeyError\u001b[0m \u001b[0;32mas\u001b[0m \u001b[0merr\u001b[0m\u001b[0;34m:\u001b[0m\u001b[0;34m\u001b[0m\u001b[0;34m\u001b[0m\u001b[0m\n",
      "\n",
      "\u001b[0;32m~/opt/anaconda3/lib/python3.9/site-packages/pandas/_libs/index.pyx\u001b[0m in \u001b[0;36mpandas._libs.index.IndexEngine.get_loc\u001b[0;34m()\u001b[0m\n",
      "\n",
      "\u001b[0;32m~/opt/anaconda3/lib/python3.9/site-packages/pandas/_libs/index.pyx\u001b[0m in \u001b[0;36mpandas._libs.index.IndexEngine.get_loc\u001b[0;34m()\u001b[0m\n",
      "\n",
      "\u001b[0;32mpandas/_libs/hashtable_class_helper.pxi\u001b[0m in \u001b[0;36mpandas._libs.hashtable.PyObjectHashTable.get_item\u001b[0;34m()\u001b[0m\n",
      "\n",
      "\u001b[0;32mpandas/_libs/hashtable_class_helper.pxi\u001b[0m in \u001b[0;36mpandas._libs.hashtable.PyObjectHashTable.get_item\u001b[0;34m()\u001b[0m\n",
      "\n",
      "\u001b[0;31mKeyError\u001b[0m: 0.2415215324818803\n",
      "\n",
      "The above exception was the direct cause of the following exception:\n",
      "\n",
      "\u001b[0;31mKeyError\u001b[0m                                  Traceback (most recent call last)\n",
      "\u001b[0;32m/var/folders/n_/_h0xvk5d079fhtnsw4lrtw780000gn/T/ipykernel_35893/1626686416.py\u001b[0m in \u001b[0;36m<module>\u001b[0;34m\u001b[0m\n",
      "\u001b[1;32m     13\u001b[0m \u001b[0;31m## filling the rest of missing-values (not much) with median value\u001b[0m\u001b[0;34m\u001b[0m\u001b[0;34m\u001b[0m\u001b[0m\n",
      "\u001b[1;32m     14\u001b[0m \u001b[0;32mfor\u001b[0m \u001b[0mcol\u001b[0m \u001b[0;32min\u001b[0m \u001b[0mfeature_names\u001b[0m\u001b[0;34m:\u001b[0m\u001b[0;34m\u001b[0m\u001b[0;34m\u001b[0m\u001b[0m\n",
      "\u001b[0;32m---> 15\u001b[0;31m     \u001b[0mmed_col\u001b[0m \u001b[0;34m=\u001b[0m \u001b[0mdata_train\u001b[0m\u001b[0;34m[\u001b[0m\u001b[0mcol\u001b[0m\u001b[0;34m]\u001b[0m\u001b[0;34m.\u001b[0m\u001b[0mmedian\u001b[0m\u001b[0;34m(\u001b[0m\u001b[0;34m)\u001b[0m\u001b[0;34m\u001b[0m\u001b[0;34m\u001b[0m\u001b[0m\n",
      "\u001b[0m\u001b[1;32m     16\u001b[0m     \u001b[0mdata_train\u001b[0m\u001b[0;34m[\u001b[0m\u001b[0mcol\u001b[0m\u001b[0;34m]\u001b[0m \u001b[0;34m=\u001b[0m \u001b[0mdata_train\u001b[0m\u001b[0;34m[\u001b[0m\u001b[0mcol\u001b[0m\u001b[0;34m]\u001b[0m\u001b[0;34m.\u001b[0m\u001b[0mfillna\u001b[0m\u001b[0;34m(\u001b[0m\u001b[0mmed_col\u001b[0m\u001b[0;34m)\u001b[0m\u001b[0;34m\u001b[0m\u001b[0;34m\u001b[0m\u001b[0m\n",
      "\u001b[1;32m     17\u001b[0m     \u001b[0mdata_test\u001b[0m\u001b[0;34m[\u001b[0m\u001b[0mcol\u001b[0m\u001b[0;34m]\u001b[0m \u001b[0;34m=\u001b[0m \u001b[0mdata_test\u001b[0m\u001b[0;34m[\u001b[0m\u001b[0mcol\u001b[0m\u001b[0;34m]\u001b[0m\u001b[0;34m.\u001b[0m\u001b[0mfillna\u001b[0m\u001b[0;34m(\u001b[0m\u001b[0mmed_col\u001b[0m\u001b[0;34m)\u001b[0m\u001b[0;34m\u001b[0m\u001b[0;34m\u001b[0m\u001b[0m\n",
      "\n",
      "\u001b[0;32m~/opt/anaconda3/lib/python3.9/site-packages/pandas/core/frame.py\u001b[0m in \u001b[0;36m__getitem__\u001b[0;34m(self, key)\u001b[0m\n",
      "\u001b[1;32m   3456\u001b[0m             \u001b[0;32mif\u001b[0m \u001b[0mself\u001b[0m\u001b[0;34m.\u001b[0m\u001b[0mcolumns\u001b[0m\u001b[0;34m.\u001b[0m\u001b[0mnlevels\u001b[0m \u001b[0;34m>\u001b[0m \u001b[0;36m1\u001b[0m\u001b[0;34m:\u001b[0m\u001b[0;34m\u001b[0m\u001b[0;34m\u001b[0m\u001b[0m\n",
      "\u001b[1;32m   3457\u001b[0m                 \u001b[0;32mreturn\u001b[0m \u001b[0mself\u001b[0m\u001b[0;34m.\u001b[0m\u001b[0m_getitem_multilevel\u001b[0m\u001b[0;34m(\u001b[0m\u001b[0mkey\u001b[0m\u001b[0;34m)\u001b[0m\u001b[0;34m\u001b[0m\u001b[0;34m\u001b[0m\u001b[0m\n",
      "\u001b[0;32m-> 3458\u001b[0;31m             \u001b[0mindexer\u001b[0m \u001b[0;34m=\u001b[0m \u001b[0mself\u001b[0m\u001b[0;34m.\u001b[0m\u001b[0mcolumns\u001b[0m\u001b[0;34m.\u001b[0m\u001b[0mget_loc\u001b[0m\u001b[0;34m(\u001b[0m\u001b[0mkey\u001b[0m\u001b[0;34m)\u001b[0m\u001b[0;34m\u001b[0m\u001b[0;34m\u001b[0m\u001b[0m\n",
      "\u001b[0m\u001b[1;32m   3459\u001b[0m             \u001b[0;32mif\u001b[0m \u001b[0mis_integer\u001b[0m\u001b[0;34m(\u001b[0m\u001b[0mindexer\u001b[0m\u001b[0;34m)\u001b[0m\u001b[0;34m:\u001b[0m\u001b[0;34m\u001b[0m\u001b[0;34m\u001b[0m\u001b[0m\n",
      "\u001b[1;32m   3460\u001b[0m                 \u001b[0mindexer\u001b[0m \u001b[0;34m=\u001b[0m \u001b[0;34m[\u001b[0m\u001b[0mindexer\u001b[0m\u001b[0;34m]\u001b[0m\u001b[0;34m\u001b[0m\u001b[0;34m\u001b[0m\u001b[0m\n",
      "\n",
      "\u001b[0;32m~/opt/anaconda3/lib/python3.9/site-packages/pandas/core/indexes/base.py\u001b[0m in \u001b[0;36mget_loc\u001b[0;34m(self, key, method, tolerance)\u001b[0m\n",
      "\u001b[1;32m   3361\u001b[0m                 \u001b[0;32mreturn\u001b[0m \u001b[0mself\u001b[0m\u001b[0;34m.\u001b[0m\u001b[0m_engine\u001b[0m\u001b[0;34m.\u001b[0m\u001b[0mget_loc\u001b[0m\u001b[0;34m(\u001b[0m\u001b[0mcasted_key\u001b[0m\u001b[0;34m)\u001b[0m\u001b[0;34m\u001b[0m\u001b[0;34m\u001b[0m\u001b[0m\n",
      "\u001b[1;32m   3362\u001b[0m             \u001b[0;32mexcept\u001b[0m \u001b[0mKeyError\u001b[0m \u001b[0;32mas\u001b[0m \u001b[0merr\u001b[0m\u001b[0;34m:\u001b[0m\u001b[0;34m\u001b[0m\u001b[0;34m\u001b[0m\u001b[0m\n",
      "\u001b[0;32m-> 3363\u001b[0;31m                 \u001b[0;32mraise\u001b[0m \u001b[0mKeyError\u001b[0m\u001b[0;34m(\u001b[0m\u001b[0mkey\u001b[0m\u001b[0;34m)\u001b[0m \u001b[0;32mfrom\u001b[0m \u001b[0merr\u001b[0m\u001b[0;34m\u001b[0m\u001b[0;34m\u001b[0m\u001b[0m\n",
      "\u001b[0m\u001b[1;32m   3364\u001b[0m \u001b[0;34m\u001b[0m\u001b[0m\n",
      "\u001b[1;32m   3365\u001b[0m         \u001b[0;32mif\u001b[0m \u001b[0mis_scalar\u001b[0m\u001b[0;34m(\u001b[0m\u001b[0mkey\u001b[0m\u001b[0;34m)\u001b[0m \u001b[0;32mand\u001b[0m \u001b[0misna\u001b[0m\u001b[0;34m(\u001b[0m\u001b[0mkey\u001b[0m\u001b[0;34m)\u001b[0m \u001b[0;32mand\u001b[0m \u001b[0;32mnot\u001b[0m \u001b[0mself\u001b[0m\u001b[0;34m.\u001b[0m\u001b[0mhasnans\u001b[0m\u001b[0;34m:\u001b[0m\u001b[0;34m\u001b[0m\u001b[0;34m\u001b[0m\u001b[0m\n",
      "\n",
      "\u001b[0;31mKeyError\u001b[0m: 0.2415215324818803"
     ]
    }
   ],
   "source": [
    "\"\"\"\n",
    "CELL N°7 : Data fill-in & scaling\n",
    "   \n",
    "@pre: train and test dataframes and the list 'feature_names' of columns to keep    \n",
    "@post:  X_train: numpy array, with (scaled) selected features, containing training data\n",
    "        X_test: numpy array, with (scaled) selected features, containing testing data. \n",
    "                The scaling should be done using the statistic of the train set.\n",
    "\"\"\"\n",
    "\n",
    "from sklearn.preprocessing import StandardScaler, MinMaxScaler\n",
    "\n",
    "\n",
    "## filling the rest of missing-values (not much) with median value\n",
    "for col in feature_names:\n",
    "    med_col = data_train[col].median()\n",
    "    data_train[col] = data_train[col].fillna(med_col)\n",
    "    data_test[col] = data_test[col].fillna(med_col)\n",
    "\n",
    "## Keeping only the selected features\n",
    "X_train = data_train[feature_names]\n",
    "X_test = data_test[feature_names]\n",
    "\n",
    "#############################\n",
    "# Start : \n",
    "#############################\n",
    "\n",
    "# @toDo\n",
    "scaler = StandardScaler().fit(X_train)\n",
    "X_train = scaler.transform(X_train)\n",
    "X_test = scaler.transform(X_test) #On utilise le même scaler que X_train pour standardiser X_test\n",
    "\n",
    "\n",
    "##########################\n",
    "# End : \n",
    "#########################"
   ]
  },
  {
   "cell_type": "markdown",
<<<<<<< HEAD
   "id": "73b1d871",
=======
   "id": "797ad037",
>>>>>>> 8a16e3e63eadba7695ab2ecb6bf21c4e755a3817
   "metadata": {},
   "source": [
    "<font size=4 color=#009999>  </font> <br>\n",
    "\n",
    "<br><font size=7 color=#009999> <b>PART 3 - MODEL SELECTION </b> </font> <br><br>\n",
    "\n",
    "\n",
    "Let us first build some tools that will help us to choose among our investigated models together with their (hyper-)parameters which one performs the best. "
   ]
  },
  {
   "cell_type": "markdown",
<<<<<<< HEAD
   "id": "f365e60a",
=======
   "id": "ed2d7419",
>>>>>>> 8a16e3e63eadba7695ab2ecb6bf21c4e755a3817
   "metadata": {},
   "source": [
    "<font size=4 color=#009999> <br> 3.1. PRECISION, RECALL AND F1 SCORE </font> <br>\n",
    "\n",
    "**Implement** the _precision, recall_ and _F-measure_ metrics based on the confusion matrix. Please follow the specifications in the provided template.  <br>\n",
    "\n",
    "**Reminder**\n",
    "\n",
    "$F_1$ is a performance score allowing to obtain some trade-off between the precision and recall criterions. It can be computed as follows:\n",
    "$$F_1 = 2~\\frac{\\mathrm{precision} \\cdot \\mathrm{recall}}{\\mathrm{precision} + \\mathrm{recall}}.$$\n",
    "\n",
    "Please consult, [Wikipedia](https://en.wikipedia.org/wiki/F-score) for further information about the metric.\n",
    "\n",
    "**NOTE**: if ever the model you built would be terribly <i>bad</i>, with both precision's and recall's value equal to $0$, we suggest to return $0$ as $F_1$ score. "
   ]
  },
  {
   "cell_type": "code",
<<<<<<< HEAD
   "execution_count": null,
   "id": "1eaa3668",
=======
   "execution_count": 1194,
   "id": "69778cfb",
>>>>>>> 8a16e3e63eadba7695ab2ecb6bf21c4e755a3817
   "metadata": {},
   "outputs": [],
   "source": [
    "\"\"\"\n",
    "CELL N°9 : Implementation of precision, recall & F1 scores\n",
    "\n",
    "@pre:  /  \n",
    "@post: Follow the specifications to implement precision, recall and probas_to_F1 functions. \n",
    "\"\"\"\n",
    "from sklearn.metrics import confusion_matrix\n",
    "import numpy as np\n",
    "\n",
    "\"\"\" -----------------------------------------------------------------------------------------\n",
    "Converts a vector of real probability values to a binary 0 or 1 \n",
    "@pre: \n",
    "    - proba_vec: vector with real values representing each a probability that the air quality is good.\n",
    "    - threshold : a threshold probability (between 0 and 1) to determine if a given air is good (1) or not (0)\n",
    "@post:\n",
    "    - predicted_labels: binary prediction vector, with elements being 0 or 1.\n",
    "----------------------------------------------------------------------------------------- \"\"\"\n",
    "\n",
    "\n",
    "def pred_probas_to_pred_labels(proba_vec, threshold=0.5):\n",
    "    return np.where(proba_vec <= threshold, 0, 1)\n",
    "\n",
    "\n",
    "\"\"\" -----------------------------------------------------------------------------------------\n",
    "Based on the confusion matrix, computes the 'precision'\n",
    "@pre: \n",
    "    - cm : confusion_matrix of a binary classification\n",
    "@post:\n",
    "    - score: precision (or positive predictive value), associated with cm\n",
    "----------------------------------------------------------------------------------------- \"\"\"\n",
    "\n",
    "\n",
    "def precision(cm):\n",
    "\n",
    "    ###########################\n",
    "    # Start :\n",
    "    ###########################\n",
    "    # @rewrite\n",
    "    # true positive (TP)\n",
    "    # true negative (TN)\n",
    "    # false positive (FP)\n",
    "    # false negative (FN)\n",
    "    # positive predictive value (PPV)\n",
    "\n",
    "    TP = cm[1,1]\n",
    "    TPandFP = np.sum(cm[:,1])\n",
    "\n",
    "    #formula\n",
    "    PPV = TP / (TPandFP)\n",
    "    \n",
    "    ###########################\n",
    "    # End : \n",
    "    ###########################\n",
    "    return PPV\n",
    "\n",
    "\n",
    "\"\"\" -----------------------------------------------------------------------------------------\n",
    "Based on the confusion matrix, computes the 'recall'\n",
    "@pre: \n",
    "    - cm : confusion_matrix of a binary classification  \n",
    "@post:\n",
    "    - r: recall (or true positive rate), associated with cm\n",
    "----------------------------------------------------------------------------------------- \"\"\"\n",
    "\n",
    "\n",
    "def recall(cm):\n",
    "\n",
    "    ###########################\n",
    "    # Start : \n",
    "    ###########################\n",
    "    # @rewrite\n",
    "    # true positive (TP)\n",
    "    # true negative (TN)\n",
    "    # false positive (FP)\n",
    "    # false negative (FN)\n",
    "    # true positive rate (TPR)\n",
    "\n",
    "    TP = cm[1,1]\n",
    "    TPandFN = np.sum(cm[1,:])\n",
    "\n",
    "    #formula\n",
    "    TPR = TP / (TPandFN)\n",
    "\n",
    "    ###########################\n",
    "    # End : \n",
    "    ###########################\n",
    "    return TPR\n",
    "\n",
    "\n",
    "\"\"\" -----------------------------------------------------------------------------------------\n",
    "Evaluates the F1 score which is a harmonic mean of the precision and recall\n",
    "@pre: \n",
    "    - y_true: vectors of 0 and 1 representing the real class values\n",
    "    - y_pred: vectors of real values representing predicted probability of the air being good ('1')\n",
    "    - output:  'F1' means that the output should only be the F1 score. \n",
    "               'PRF1' means that the output is a tuple with (precision, recall, F1)\n",
    "               'F1' is the default value\n",
    "    - threshold: a threshold probability (between 0 and 1) to determine if the air is good ('1') or not ('0')\n",
    "@post:\n",
    "    - F1_score: harmonic mean of the precision and recall\n",
    "    - If asked in argument, precision and recall can be added in the output: (precision, recall, F1)\n",
    "----------------------------------------------------------------------------------------- \"\"\"\n",
    "\n",
    "\n",
    "def probas_to_F1(y_true, y_pred, output=\"F1\", threshold=0.5):\n",
    "\n",
    "\n",
    "    ###########################\n",
    "    # Start : \n",
    "    ###########################\n",
    "\n",
    "    \n",
    "    y_pred_binary = pred_probas_to_pred_labels(y_pred, threshold)\n",
    "    # confusion_matrix (cm)\n",
    "    cm = confusion_matrix(y_true, y_pred_binary)\n",
    "    F1_score = 2 * (( precision(cm) * recall(cm) ) / ( precision(cm) + recall(cm) ))\n",
    "    \n",
    "    if output == \"PRF1\":\n",
    "        return (precision(cm), recall(cm), F1_score)\n",
    "    \n",
    "    ###########################\n",
    "    # End : \n",
    "    ###########################\n",
    "\n",
    "    return F1_score"
   ]
  },
  {
   "cell_type": "markdown",
<<<<<<< HEAD
   "id": "c6eabff1",
=======
   "id": "f8834695",
>>>>>>> 8a16e3e63eadba7695ab2ecb6bf21c4e755a3817
   "metadata": {},
   "source": [
    "<font size=4 color=#009999> <br> 3.2. MODEL EVALUATION  </font> <br>\n",
    "\n",
    "**Implement** `evalParam`, which evaluates, using a __k-fold__ cross-validation, a list of `scikit-learn` models. Use your method `probas_to_F1` as score function. The function `evalParam` must be  **scalable**. Put differently, it must handle $m$ methods, and a variable list of their possible parameters configuration. \n",
    "\n",
    "\n",
    "In addition of the list of _models_ (methods) and their list of _hyperparameters_ (param), the function takes as arguments the _features set_ (X), _target variable_ (y) and _the number of folds_ (cv). \n",
    "\n",
    "It returns an array _score_ such that <br>\n",
    "\n",
    "$$score[i][j] = average F1 over the folds, using method _i_ with parameters configuration j.$$\n",
    "\n",
    "To help you, here is a pseudo code of K-fold for one method and one configuration of hyperparameters. \n",
    "\n",
    "<img src=\"K-fold_pseudo-code.png\" width = \"650\">\n",
    " \n",
    "__Remark 1.__ You have to implement a K-fold cross-validation. You are only allowed to use `KFold.splits(dataset)` from `sklearn.model_selection` to generate the indices of your different folds. \n"
   ]
  },
  {
   "cell_type": "markdown",
<<<<<<< HEAD
   "id": "1a5d3adc",
=======
   "id": "0ac3cac6",
>>>>>>> 8a16e3e63eadba7695ab2ecb6bf21c4e755a3817
   "metadata": {},
   "source": [
    "<div class=\"alert alert-warning\">\n",
    "    <b>[Question 3.1]</b>\n",
    "    Explain the idea of K-fold cross-validation and why it is useful. How the choice of K (in the cross-validation) impacts the bias and the variance of the scores obtained on the different folds? Choose and justify the number of folds you consider in this project. \n",
    "</div> "
   ]
  },
  {
   "cell_type": "code",
<<<<<<< HEAD
   "execution_count": null,
   "id": "693615f3",
=======
   "execution_count": 1195,
   "id": "381b8ef8",
>>>>>>> 8a16e3e63eadba7695ab2ecb6bf21c4e755a3817
   "metadata": {},
   "outputs": [],
   "source": [
    "\"\"\"\n",
    "CELL N°10 : Evaluates the methods using different parameters via a K-folds with cv folds\n",
    "\n",
    "@pre: \n",
    "    - methods: list of classifiers to analyze\n",
    "    - param: list of size len(methods) containing lists of parameters (in dictionary form) to evaluate.\n",
    "             In other words, param[i][j] is a dictionary of parmeters.\n",
    "             For example if index i is for KNN, we can have a parameter configuration (with index j) described as\n",
    "                 param[i][j] = {\"n_neigbors\":5, \"weights\": 'uniform'}; \n",
    "                 while param[i] is a list of such parameters dictionnaries for model i (here KNN)\n",
    "    - X: training dataset\n",
    "    - y: target vector for the corresponding entries of X\n",
    "    - cv: the number of folds to use in your cross-validation\n",
    "@post:\n",
    "    - score: list with same shape as param. score[i][j] = mean score over the folds, \n",
    "                                                         using method i with parameters param[i][j]\n",
    "------------------------------------------------------------------------------------------------ \"\"\"\n",
    "from sklearn.model_selection import KFold\n",
    "\n",
    "\n",
    "def evalParam(methods, param, X, y, cv):\n",
    "\n",
    "    #############################\n",
    "    # Start : \n",
    "    #############################\n",
    "    \n",
    "    score = []\n",
    "    for i in range(len(methods)):\n",
    "        score.append(np.zeros(len(param[i])))\n",
    "        \n",
    "    # @rewrite\n",
    "\n",
    "    kf= KFold(n_splits = cv, shuffle=True, random_state=1)\n",
    "\n",
    "    for trn_idx, tst_idx in kf.split(X):\n",
    "        X_train, X_test = X[trn_idx,:], X[tst_idx,:]\n",
    "        y_train, y_test = y[trn_idx].ravel(), y[tst_idx].ravel()\n",
    "        for i in range(len(methods)):\n",
    "            for j in range(len(param[i])):\n",
    "                methods[i].set_params(**param[i][j])\n",
    "                model = methods[i].fit(X_train, y_train)\n",
    "                y_pred = model.predict(X_test)\n",
    "                score[i][j]+= probas_to_F1(y_test, y_pred)/ kf.get_n_splits()\n",
    "                \n",
    "    ##########################\n",
    "    # End : \n",
    "    ########################\n",
    "    return score\n",
    "\n",
    "    "
   ]
  },
  {
   "cell_type": "markdown",
<<<<<<< HEAD
   "id": "3537875e",
=======
   "id": "01e7b09f",
>>>>>>> 8a16e3e63eadba7695ab2ecb6bf21c4e755a3817
   "metadata": {},
   "source": [
    "<font size=4 color=#009999> <br> 3.3. MODEL SELECTION AND PARAMETERS TUNING </font> <br>\n",
    "\n",
    "__Run__ your function `evalParam` to evaluate the three following models : [_linear regression_](https://scikit-learn.org/stable/modules/generated/sklearn.linear_model.LinearRegression.html#sklearn.linear_model.LinearRegression), [_logistic regression_](https://scikit-learn.org/stable/modules/generated/sklearn.linear_model.LogisticRegression.html) and [_K nearest neighbors_](https://scikit-learn.org/stable/modules/generated/sklearn.neighbors.KNeighborsClassifier.html). <br>These models are already implemented in sklearn. <br>\n",
    "\n",
    "**Study** the effect of the following hyperparameters:\n",
    "- `n_neighbors` in KNN (try selected values between 1 and 100),\n",
    "- `weights` in KNN (try both values 'uniform' and 'distance')\n",
    "- `p` in KNN (try euclidean (p=2), manhattan (p=1) and minkowski-100 (more or less equivalent to max-norm))\n",
    "- `C` in logistic regression (try selected values between $10^{-3}$ and $10^3$)</li>\n",
    "\n",
    "\n",
    "<div class=\"alert alert-warning\">\n",
    "    <b>[Question you should ask yourself]</b> (Not graded) Prior to the run, discuss the fitness of each model to answer to our problem. \n",
    "</div> \n",
    "\n",
    "<div class=\"alert alert-warning\">\n",
    "    <b>[Question 3.2]</b> Explain your methodology of model evaluation. More precisely, explain which hyperparameters you tune and the values you test for each of them. Next, provide the best hyperparameters configuration for each of the three models as well as their CV F1 score.\n",
    "</div>\n"
   ]
  },
  {
   "cell_type": "code",
<<<<<<< HEAD
   "execution_count": null,
   "id": "d2168678",
=======
   "execution_count": 1196,
   "id": "6aa61360",
>>>>>>> 8a16e3e63eadba7695ab2ecb6bf21c4e755a3817
   "metadata": {
    "scrolled": false
   },
   "outputs": [
    {
     "name": "stdout",
     "output_type": "stream",
     "text": [
      " \n",
      "{'normalize': False} with score 0.9470\n",
      "{'C': 1} with score 0.9763\n",
      "{'n_neighbors': 3, 'weights': 'distance', 'p': 1} with score 0.9950\n"
     ]
    },
    {
     "data": {
      "text/html": [
       "<style>#sk-container-id-47 {color: black;background-color: white;}#sk-container-id-47 pre{padding: 0;}#sk-container-id-47 div.sk-toggleable {background-color: white;}#sk-container-id-47 label.sk-toggleable__label {cursor: pointer;display: block;width: 100%;margin-bottom: 0;padding: 0.3em;box-sizing: border-box;text-align: center;}#sk-container-id-47 label.sk-toggleable__label-arrow:before {content: \"▸\";float: left;margin-right: 0.25em;color: #696969;}#sk-container-id-47 label.sk-toggleable__label-arrow:hover:before {color: black;}#sk-container-id-47 div.sk-estimator:hover label.sk-toggleable__label-arrow:before {color: black;}#sk-container-id-47 div.sk-toggleable__content {max-height: 0;max-width: 0;overflow: hidden;text-align: left;background-color: #f0f8ff;}#sk-container-id-47 div.sk-toggleable__content pre {margin: 0.2em;color: black;border-radius: 0.25em;background-color: #f0f8ff;}#sk-container-id-47 input.sk-toggleable__control:checked~div.sk-toggleable__content {max-height: 200px;max-width: 100%;overflow: auto;}#sk-container-id-47 input.sk-toggleable__control:checked~label.sk-toggleable__label-arrow:before {content: \"▾\";}#sk-container-id-47 div.sk-estimator input.sk-toggleable__control:checked~label.sk-toggleable__label {background-color: #d4ebff;}#sk-container-id-47 div.sk-label input.sk-toggleable__control:checked~label.sk-toggleable__label {background-color: #d4ebff;}#sk-container-id-47 input.sk-hidden--visually {border: 0;clip: rect(1px 1px 1px 1px);clip: rect(1px, 1px, 1px, 1px);height: 1px;margin: -1px;overflow: hidden;padding: 0;position: absolute;width: 1px;}#sk-container-id-47 div.sk-estimator {font-family: monospace;background-color: #f0f8ff;border: 1px dotted black;border-radius: 0.25em;box-sizing: border-box;margin-bottom: 0.5em;}#sk-container-id-47 div.sk-estimator:hover {background-color: #d4ebff;}#sk-container-id-47 div.sk-parallel-item::after {content: \"\";width: 100%;border-bottom: 1px solid gray;flex-grow: 1;}#sk-container-id-47 div.sk-label:hover label.sk-toggleable__label {background-color: #d4ebff;}#sk-container-id-47 div.sk-serial::before {content: \"\";position: absolute;border-left: 1px solid gray;box-sizing: border-box;top: 0;bottom: 0;left: 50%;z-index: 0;}#sk-container-id-47 div.sk-serial {display: flex;flex-direction: column;align-items: center;background-color: white;padding-right: 0.2em;padding-left: 0.2em;position: relative;}#sk-container-id-47 div.sk-item {position: relative;z-index: 1;}#sk-container-id-47 div.sk-parallel {display: flex;align-items: stretch;justify-content: center;background-color: white;position: relative;}#sk-container-id-47 div.sk-item::before, #sk-container-id-47 div.sk-parallel-item::before {content: \"\";position: absolute;border-left: 1px solid gray;box-sizing: border-box;top: 0;bottom: 0;left: 50%;z-index: -1;}#sk-container-id-47 div.sk-parallel-item {display: flex;flex-direction: column;z-index: 1;position: relative;background-color: white;}#sk-container-id-47 div.sk-parallel-item:first-child::after {align-self: flex-end;width: 50%;}#sk-container-id-47 div.sk-parallel-item:last-child::after {align-self: flex-start;width: 50%;}#sk-container-id-47 div.sk-parallel-item:only-child::after {width: 0;}#sk-container-id-47 div.sk-dashed-wrapped {border: 1px dashed gray;margin: 0 0.4em 0.5em 0.4em;box-sizing: border-box;padding-bottom: 0.4em;background-color: white;}#sk-container-id-47 div.sk-label label {font-family: monospace;font-weight: bold;display: inline-block;line-height: 1.2em;}#sk-container-id-47 div.sk-label-container {text-align: center;}#sk-container-id-47 div.sk-container {/* jupyter's `normalize.less` sets `[hidden] { display: none; }` but bootstrap.min.css set `[hidden] { display: none !important; }` so we also need the `!important` here to be able to override the default hidden behavior on the sphinx rendered scikit-learn.org. See: https://github.com/scikit-learn/scikit-learn/issues/21755 */display: inline-block !important;position: relative;}#sk-container-id-47 div.sk-text-repr-fallback {display: none;}</style><div id=\"sk-container-id-47\" class=\"sk-top-container\"><div class=\"sk-text-repr-fallback\"><pre>KNeighborsClassifier(n_neighbors=3, p=1, weights=&#x27;distance&#x27;)</pre><b>In a Jupyter environment, please rerun this cell to show the HTML representation or trust the notebook. <br />On GitHub, the HTML representation is unable to render, please try loading this page with nbviewer.org.</b></div><div class=\"sk-container\" hidden><div class=\"sk-item\"><div class=\"sk-estimator sk-toggleable\"><input class=\"sk-toggleable__control sk-hidden--visually\" id=\"sk-estimator-id-47\" type=\"checkbox\" checked><label for=\"sk-estimator-id-47\" class=\"sk-toggleable__label sk-toggleable__label-arrow\">KNeighborsClassifier</label><div class=\"sk-toggleable__content\"><pre>KNeighborsClassifier(n_neighbors=3, p=1, weights=&#x27;distance&#x27;)</pre></div></div></div></div></div>"
      ],
      "text/plain": [
       "KNeighborsClassifier(n_neighbors=3, p=1, weights='distance')"
      ]
     },
     "execution_count": 1196,
     "metadata": {},
     "output_type": "execute_result"
    }
   ],
   "source": [
    "\"\"\"\n",
    "CELL N°11 : Model selection - tuning the three methods\n",
    "   \n",
    "@pre: evalParam function correctly implemented    \n",
    "@post:  three models (knn, linear and logistic regression) initialized with tuned hyperparameters.\n",
    "        print the best hyperparameters found, as well as their CV F1 scores associated with these hyperparameters.\n",
    "------------------------------------------------------------------------------------------------ \"\"\"\n",
    "\n",
    "from sklearn.linear_model import LinearRegression\n",
    "from sklearn.linear_model import LogisticRegression\n",
    "from sklearn.neighbors import KNeighborsClassifier\n",
    "\n",
    "#############################\n",
    "# Start : \n",
    "#############################\n",
    "\n",
    "# @rewrite\n",
    "linreg = LinearRegression()\n",
    "logreg = LogisticRegression()\n",
    "knn = KNeighborsClassifier()\n",
    "methods = [linreg, logreg, knn]\n",
    "paramLR = [{\"normalize\": False}]  # no tuning to do for linreg but we put a default parameters here too\n",
    "paramLog = [{\"C\": 10**-3},{\"C\": 10**-2},{\"C\": 10**-1},{\"C\": 1},{\"C\": 10},{\"C\": 10**2},{\"C\": 10**3}]\n",
    "paramKN = []\n",
    "for n in [1,2,3,4,5,6,7,8,9,10,20,50,70,100]:\n",
    "        for w in [\"distance\", \"uniform\"]:\n",
    "                for p in [1,2,100]:\n",
    "                        paramKN +=[{\"n_neighbors\":n,\"weights\": w,\"p\":p}]\n",
    "param = [paramLR,paramLog,paramKN]\n",
    "cv = 9\n",
    "\n",
    "\n",
    "\n",
    "\n",
    "#evaluating each cv value (number of folds for evalParam())\n",
    "#this method is highly inspired by the following website: https://www.naukri.com/learning/articles/how-to-set-the-value-of-k-in-k-fold-cross-validation/\n",
    "\n",
    "from sklearn.model_selection import cross_val_score\n",
    "def evaluate_model(kf_cv):\n",
    "        model = LogisticRegression()\n",
    "        scores = cross_val_score(model, X_train, y_binary_train, scoring='accuracy', cv = kf_cv, n_jobs=-1)\n",
    "        return np.mean(scores), scores.min(), scores.max() \n",
    "\n",
    "#for k in range(2,31):\n",
    "        #kf_cv = KFold(n_splits=k, shuffle=True, random_state=10)\n",
    "        #k_mean, k_min, k_max = evaluate_model(kf_cv)\n",
    "        #print('-> folds=%d, accuracy=%.3f (%.3f,%.3f)' % (k, k_mean, k_min, k_max))\n",
    "\n",
    "##########################\n",
    "# End : \n",
    "########################\n",
    "\n",
    "print(' ')\n",
    "\n",
    "\n",
    "#############################\n",
    "# Start : \n",
    "#############################\n",
    "\n",
    "cv_scores = evalParam(methods, param, X_train, y_binary_train, cv)\n",
    "\n",
    "# @toAdapt for linear regression\n",
    "LRbest = np.argmax(cv_scores[0]) # to do\n",
    "print(paramLR[LRbest], \"with score {0:.4f}\".format(cv_scores[0][LRbest]))\n",
    "linreg.set_params(**paramLR[LRbest])\n",
    "\n",
    "# @toDo for KNN and Logistic regression\n",
    "Logbest = np.argmax(cv_scores[1])\n",
    "print(paramLog[Logbest], \"with score {0:.4f}\".format(cv_scores[1][Logbest]))\n",
    "logreg.set_params(**paramLog[Logbest])\n",
    "\n",
    "KNbest = np.argmax(cv_scores[2])\n",
    "print(paramKN[KNbest], \"with score {0:.4f}\".format(cv_scores[2][KNbest]))\n",
    "knn.set_params(**paramKN[KNbest])\n",
    "##########################\n",
    "# End :\n",
    "########################"
   ]
  },
  {
   "cell_type": "markdown",
<<<<<<< HEAD
   "id": "ab1eaad5",
=======
   "id": "e79a9e56",
>>>>>>> 8a16e3e63eadba7695ab2ecb6bf21c4e755a3817
   "metadata": {},
   "source": [
    "<div class=\"alert alert-warning\">\n",
    "    <b>[Question 3.3]</b> Based on your answers to previous questions, select a final model that you will keep as classifier. Justify.\n",
    "</div> "
   ]
  },
  {
   "cell_type": "markdown",
<<<<<<< HEAD
   "id": "c2a1537e",
=======
   "id": "5b99aa50",
>>>>>>> 8a16e3e63eadba7695ab2ecb6bf21c4e755a3817
   "metadata": {},
   "source": [
    "<font size=4 color=#009999> <br> 3.4. Precision, Recall and thresholding </font> <br>\n",
    "\n",
    "In general, the classifying models compute first the probability for a point to belong to a certain class. Next, they applies a threshold to assign the final label (bad or good). By default, `scikit-learn` applies a threshold of 0.5 for KNN and logistic regression. You can use the function `predict_proba` to obtain the original probabilities. <br>\n",
    "For analyzing the impact of the threshold on the precision and recall of a model, we generally plot its precision-recall curve. Specific functions in sklearn help doing that plot (see [sklearn documentation](https://scikit-learn.org/stable/auto_examples/model_selection/plot_precision_recall.html)). <br>\n",
    "Here we only ask you theoretical questions, so we don't expect any plot from you, but feel free to create some for your own reflection and to help you answering correctly.\n",
    "\n",
    "<div class=\"alert alert-warning\">\n",
    "    <b>[Question 3.4]</b> What happens to the precision and recall (of any method) when the threshold tends to 0? And when it tends to 1? Explain and, if possible, establish a link with Question 2.1.\n",
    "</div>\n",
    "\n",
    "<div class=\"alert alert-warning\">\n",
    "    <b>[Question 3.5]</b> \n",
    "    Explain which precision/recall trade-off you prefer to have for the specific task asked in this hackathon: determining whether air quality is good based on some concentrations. How should you adjust the threshold of your model to bring it closer to the desired trade-off? Should it be above or below the default threshold value of 0.5? <br>\n",
    "    <b> Note: </b> In the next section, we will keep considering the default threshold value of 0.5.\n",
    "</div>\n"
   ]
  },
  {
   "cell_type": "code",
<<<<<<< HEAD
   "execution_count": null,
   "id": "9d553d0b",
=======
   "execution_count": 1197,
   "id": "52075630",
>>>>>>> 8a16e3e63eadba7695ab2ecb6bf21c4e755a3817
   "metadata": {},
   "outputs": [
    {
     "data": {
      "image/png": "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",
      "text/plain": [
       "<Figure size 640x480 with 1 Axes>"
      ]
     },
     "metadata": {},
     "output_type": "display_data"
    }
   ],
   "source": [
    "\"\"\"\n",
    "TEST CELL N°2 : PRECISION-RECALL CURVES\n",
    "   \n",
    "@pre: the three models (knn, linear and logistic regression) initialized with their tuned hyperparameters.  \n",
    "@post: a figure with the precision-recall curves for the three given models and also for a simple baseline classifier, \n",
    "        applied on a validation set containing 10% of the training set.\n",
    "------------------------------------------------------------------------------------------------ \"\"\"\n",
    "\n",
    "from sklearn.metrics import precision_recall_curve\n",
    "from sklearn.metrics import auc\n",
    "from sklearn.model_selection import train_test_split\n",
    "\n",
    "# Validation set to use for the PR curves\n",
    "X_train2, X_val = train_test_split(X_train, test_size=0.1, random_state=42)\n",
    "y_train2, y_val = train_test_split(y_binary_train, test_size=0.1, random_state=42)\n",
    "\n",
    "#############################\n",
    "# Start : just a few lines asked\n",
    "#############################\n",
    "\n",
    "# Training the tuned models\n",
    "linreg.fit(X_train2, y_train2)\n",
    "y_scoreLR = linreg.predict(X_val)\n",
    "\n",
    "# @rewrite (linreg -> logreg, linreg -> knn)\n",
    "logreg.fit(X_train2, y_train2)\n",
    "y_scoreLogR = logreg.predict(X_val)\n",
    "\n",
    "knn.fit(X_train2, y_train2)\n",
    "y_scoreKNN = knn.predict(X_val)\n",
    "\n",
    "# Computing the precision, recall and threshold for each model\n",
    "precisionLR, recallLR, thresholdsLR = precision_recall_curve(y_val, y_scoreLR)\n",
    "pr_aucLR = auc(recallLR, precisionLR)\n",
    "\n",
    "precisionLogR, recallLogR, thresholdsLogR = precision_recall_curve(y_val, y_scoreLogR)\n",
    "pr_aucLogR = auc(recallLogR, precisionLogR)\n",
    "\n",
    "precisionKNN, recallKNN, thresholdsKNN = precision_recall_curve(y_val, y_scoreKNN)\n",
    "pr_aucKNN = auc(recallKNN, precisionKNN)\n",
    "\n",
    "# Plotting the precision-recall curves\n",
    "plt.figure()\n",
    "plt.plot(\n",
    "    recallLR,\n",
    "    precisionLR,\n",
    "    color=\"darkorange\",\n",
    "    lw=2,\n",
    "    label=\"LR (area = %0.2f)\" % pr_aucLR,\n",
    ")\n",
    "plt.plot(\n",
    "    recallLogR,\n",
    "    precisionLogR,\n",
    "    color=\"darkgreen\",\n",
    "    lw=2,\n",
    "    label=\"LogR (area = %0.2f)\" % pr_aucLogR,\n",
    ")\n",
    "plt.plot(\n",
    "    recallKNN, precisionKNN, color=\"red\", lw=2, label=\"KNN (area = %0.2f)\" % pr_aucKNN\n",
    ")\n",
    "\n",
    "plt.plot(\n",
    "    [0, 1],\n",
    "    [0.66, 0.66],\n",
    "    color=\"navy\",\n",
    "    lw=2,\n",
    "    linestyle=\"--\",\n",
    "    label=\"constant pred (area = 0.66)\",\n",
    ")\n",
    "plt.xlim([0.0, 1.0])\n",
    "plt.ylim([0.4, 1.05])\n",
    "plt.xlabel(\"Recall\")\n",
    "plt.ylabel(\"Precision\")\n",
    "plt.title(\"Precision - Recall curve\")\n",
    "plt.legend(loc=\"lower right\")\n",
    "plt.show()\n",
    "\n",
    "#########################\n",
    "# End : Only for the TA'\n",
    "########################"
   ]
  },
  {
   "cell_type": "markdown",
<<<<<<< HEAD
   "id": "23f078ab",
=======
   "id": "420e1b17",
>>>>>>> 8a16e3e63eadba7695ab2ecb6bf21c4e755a3817
   "metadata": {},
   "source": [
    "The code below only serves as a default setting. <br>You have to rewrite the lines below using your selected model ($\\texttt{linreg}, \\texttt{recallKNN}, \\dots$ should be replaced by the right elements of your choice)."
   ]
  },
  {
   "cell_type": "code",
<<<<<<< HEAD
   "execution_count": null,
   "id": "5f10b51f",
=======
   "execution_count": 1198,
   "id": "c0e4312b",
>>>>>>> 8a16e3e63eadba7695ab2ecb6bf21c4e755a3817
   "metadata": {},
   "outputs": [
    {
     "name": "stdout",
     "output_type": "stream",
     "text": [
      "If we use threshold=1.00, we should obtain recall=1.00, precision=1.00 and F1=1.00\n"
     ]
    }
   ],
   "source": [
    "\"\"\"\n",
    "TEST CELL N°3 : THRESHOLDING\n",
    "   \n",
    "@pre:   vectors of thresholds, precision and recall scores used for the PR curve in the previous cell\n",
    "@post:  clf contains your selected classifier.\n",
    "        thresh is your selected threshold  \n",
    "------------------------------------------------------------------------------------------------ \"\"\"\n",
    "\n",
    "\n",
    "clf = knn  # @rewrite with the selected model... :) \n",
    "\n",
    "#############################\n",
    "# Start : Only for the TA's\n",
    "# No code asked to the students\n",
    "#############################\n",
    "\n",
    "# we choose the threshold that gives precision >= 0.9, for the largest recall.\n",
    "idx = np.argmax(recallKNN[precisionKNN >= 0.9])\n",
    "threshold = thresholdsKNN[precisionKNN[0:-1] >= 0.9][idx]\n",
    "idt = np.where(thresholdsKNN == threshold)[0][0]\n",
    "recall_t = recallKNN[idt]\n",
    "precision_t = precisionKNN[idt]\n",
    "F1_t = 2 * (recall_t * precision_t) / (recall_t + precision_t)\n",
    "print(\n",
    "    \"If we use threshold={0:.2f}, we should obtain recall={1:.2f}, precision={2:.2f} and F1={3:.2f}\".format(\n",
    "        threshold, recall_t, precision_t, F1_t\n",
    "    )\n",
    ")\n",
    "\n",
    "#########################\n",
    "# End : Only for the TA'\n",
    "########################"
   ]
  },
  {
   "cell_type": "markdown",
<<<<<<< HEAD
   "id": "28e13f19",
=======
   "id": "fcd4c2ef",
>>>>>>> 8a16e3e63eadba7695ab2ecb6bf21c4e755a3817
   "metadata": {},
   "source": [
    "<br>\n",
    "\n",
    "<br><font size=7 color=#009999> <b>PART 4 - MODEL TESTING </b> </font> <br><br>\n",
    "\n",
    "<div class=\"alert alert-warning\">\n",
    "    <b>[Question 4.1]</b> Use the test set to estimate the precision, recall and F1 score of your final model and validate its performance on unseen data. <br> Observe if the scores are similar to the ones estimated with your cross-validation.\n",
    "        Are you satisfied by the performance of your classifier, in view of the task for which it will be used?\n",
    "\n",
    "</div> \n"
   ]
  },
  {
   "cell_type": "code",
<<<<<<< HEAD
   "execution_count": null,
   "id": "103b4218",
=======
   "execution_count": 1199,
   "id": "8aec5c8a",
>>>>>>> 8a16e3e63eadba7695ab2ecb6bf21c4e755a3817
   "metadata": {},
   "outputs": [
    {
     "name": "stdout",
     "output_type": "stream",
     "text": [
      "--------- For our tuned KNN ---------\n",
      "F1 score: 99.60%\n",
      "Precision function: 99.64%\n",
      "Recall function: 99.57%\n"
     ]
    }
   ],
   "source": [
    "\"\"\"\n",
    "CELL N°10 : MODEL TESTING\n",
    "   \n",
    "@pre:   clf is your selected classifier\n",
    "        X_test is the numpy array containing the test set (with your selected features)\n",
    "        y_test is the numpy array contaning your binary target vector\n",
    "@post:  print the F1, precision and recall on the test set.\n",
    "------------------------------------------------------------------------------------------------ \"\"\"\n",
    "\n",
    "#############################\n",
    "# Start : \n",
    "#############################\n",
    "\n",
    "# @rewrite\n",
    "clf.fit(X_train, y_binary_train)\n",
    "y_pred = clf.predict(X_test)\n",
    "(prec,rec, F1)= probas_to_F1(y_binary_test, y_pred, output=\"PRF1\", threshold=0.5)\n",
    "\n",
    "# prints\n",
    "print(\"--------- For our tuned KNN ---------\")\n",
    "print(f\"F1 score: {F1:2.2%}\")\n",
    "print(f\"Precision function: {prec:2.2%}\")\n",
    "print(f\"Recall function: {rec:2.2%}\")\n",
    "\n",
    "##########################\n",
    "# End : \n",
    "########################"
   ]
  }
 ],
 "metadata": {
  "kernelspec": {
<<<<<<< HEAD
   "display_name": "Python 3.7.4 32-bit",
=======
   "display_name": "Python 3.10.2 64-bit",
>>>>>>> 8a16e3e63eadba7695ab2ecb6bf21c4e755a3817
   "language": "python",
   "name": "python3"
  },
  "language_info": {
   "codemirror_mode": {
    "name": "ipython",
    "version": 3
   },
   "file_extension": ".py",
   "mimetype": "text/x-python",
   "name": "python",
   "nbconvert_exporter": "python",
   "pygments_lexer": "ipython3",
<<<<<<< HEAD
   "version": "3.7.4"
  },
  "vscode": {
   "interpreter": {
    "hash": "4ec9b7cb269b2be6411dccd1037fd8f8693d60f9813a7f043f31fcdac85d0a50"
=======
   "version": "3.10.2"
  },
  "vscode": {
   "interpreter": {
    "hash": "aee8b7b246df8f9039afb4144a1f6fd8d2ca17a180786b69acc140d282b71a49"
>>>>>>> 8a16e3e63eadba7695ab2ecb6bf21c4e755a3817
   }
  }
 },
 "nbformat": 4,
 "nbformat_minor": 5
}
